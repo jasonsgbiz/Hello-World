{
 "cells": [
  {
   "cell_type": "markdown",
   "metadata": {},
   "source": [
    "### Research Objective \n",
    "> An investor would like to purchase a private resales property in Singapore. He would like to understand more about the private property resales prices. He is also deciding whether to buy a high floor, mid floor or low floor unit. "
   ]
  },
  {
   "cell_type": "markdown",
   "metadata": {},
   "source": [
    "### Business Question 1\n",
    "> The investor would like to know if the sample mean price of property is representative of the population mean price of property."
   ]
  },
  {
   "cell_type": "markdown",
   "metadata": {},
   "source": [
    "### Business Question 2\n",
    "> The investor would also like to find out if there are any differences in price of property vs floor level (low, mid, high)."
   ]
  },
  {
   "cell_type": "markdown",
   "metadata": {},
   "source": [
    "### Research Design\n",
    "> This is a descriptive research."
   ]
  },
  {
   "cell_type": "markdown",
   "metadata": {},
   "source": [
    "### Assumption\n",
    "#### Dataset from URA is the population dataset \n",
    "#### https://www.ura.gov.sg/realEstateIIWeb/transaction/search.action"
   ]
  },
  {
   "cell_type": "code",
   "execution_count": 1,
   "metadata": {},
   "outputs": [],
   "source": [
    "import re\n",
    "import numpy as np\n",
    "import pandas as pd\n",
    "import matplotlib.pyplot as plt\n",
    "from matplotlib import rcParams\n",
    "import seaborn as sns\n",
    "import scipy.stats as stats\n",
    "from scipy.stats import boxcox \n",
    "from scipy.special import inv_boxcox\n",
    "from statsmodels.stats.weightstats import ztest\n",
    "import statsmodels.formula.api as smf             #use statsmodel formula\n",
    "from statsmodels.formula.api import ols           #ols\n",
    "from statsmodels.stats.anova import anova_lm      #fit the anova table\n",
    "import statsmodels.stats.multicomp as multi       #used for tukey-hsd\n",
    "import statsmodels.api as sm                      #check if residual are normally distributed\n",
    "from scipy.stats import kruskal\n",
    "import warnings\n",
    "warnings.filterwarnings(\"ignore\")"
   ]
  },
  {
   "cell_type": "markdown",
   "metadata": {},
   "source": [
    "### Read CSV File"
   ]
  },
  {
   "cell_type": "code",
   "execution_count": 2,
   "metadata": {},
   "outputs": [
    {
     "data": {
      "text/html": [
       "<div>\n",
       "<style scoped>\n",
       "    .dataframe tbody tr th:only-of-type {\n",
       "        vertical-align: middle;\n",
       "    }\n",
       "\n",
       "    .dataframe tbody tr th {\n",
       "        vertical-align: top;\n",
       "    }\n",
       "\n",
       "    .dataframe thead th {\n",
       "        text-align: right;\n",
       "    }\n",
       "</style>\n",
       "<table border=\"1\" class=\"dataframe\">\n",
       "  <thead>\n",
       "    <tr style=\"text-align: right;\">\n",
       "      <th></th>\n",
       "      <th>S/N</th>\n",
       "      <th>Project Name</th>\n",
       "      <th>Street Name</th>\n",
       "      <th>Type</th>\n",
       "      <th>Postal District</th>\n",
       "      <th>Market Segment</th>\n",
       "      <th>Tenure</th>\n",
       "      <th>Type of Sale</th>\n",
       "      <th>No. of Units</th>\n",
       "      <th>Price ($)</th>\n",
       "      <th>Nett Price ($)</th>\n",
       "      <th>Area (Sqft)</th>\n",
       "      <th>Type of Area</th>\n",
       "      <th>Floor Level</th>\n",
       "      <th>Unit Price ($psf)</th>\n",
       "      <th>Date of Sale</th>\n",
       "    </tr>\n",
       "  </thead>\n",
       "  <tbody>\n",
       "    <tr>\n",
       "      <th>0</th>\n",
       "      <td>1</td>\n",
       "      <td>MARINA ONE RESIDENCES</td>\n",
       "      <td>MARINA WAY</td>\n",
       "      <td>Apartment</td>\n",
       "      <td>1</td>\n",
       "      <td>CCR</td>\n",
       "      <td>99 yrs lease commencing from 2011</td>\n",
       "      <td>Resale</td>\n",
       "      <td>1</td>\n",
       "      <td>1691910</td>\n",
       "      <td>-</td>\n",
       "      <td>732</td>\n",
       "      <td>Strata</td>\n",
       "      <td>11 to 15</td>\n",
       "      <td>2312</td>\n",
       "      <td>May-21</td>\n",
       "    </tr>\n",
       "    <tr>\n",
       "      <th>1</th>\n",
       "      <td>2</td>\n",
       "      <td>DOMAIN 21</td>\n",
       "      <td>DELTA ROAD</td>\n",
       "      <td>Condominium</td>\n",
       "      <td>3</td>\n",
       "      <td>RCR</td>\n",
       "      <td>99 yrs lease commencing from 2004</td>\n",
       "      <td>Resale</td>\n",
       "      <td>1</td>\n",
       "      <td>1600000</td>\n",
       "      <td>-</td>\n",
       "      <td>1033</td>\n",
       "      <td>Strata</td>\n",
       "      <td>16 to 20</td>\n",
       "      <td>1548</td>\n",
       "      <td>May-21</td>\n",
       "    </tr>\n",
       "    <tr>\n",
       "      <th>2</th>\n",
       "      <td>3</td>\n",
       "      <td>THE ROCHESTER RESIDENCES</td>\n",
       "      <td>ROCHESTER DRIVE</td>\n",
       "      <td>Apartment</td>\n",
       "      <td>5</td>\n",
       "      <td>RCR</td>\n",
       "      <td>99 yrs lease commencing from 2005</td>\n",
       "      <td>Resale</td>\n",
       "      <td>1</td>\n",
       "      <td>1800000</td>\n",
       "      <td>-</td>\n",
       "      <td>1302</td>\n",
       "      <td>Strata</td>\n",
       "      <td>26 to 30</td>\n",
       "      <td>1382</td>\n",
       "      <td>May-21</td>\n",
       "    </tr>\n",
       "    <tr>\n",
       "      <th>3</th>\n",
       "      <td>4</td>\n",
       "      <td>CARABELLE</td>\n",
       "      <td>WEST COAST WAY</td>\n",
       "      <td>Condominium</td>\n",
       "      <td>5</td>\n",
       "      <td>OCR</td>\n",
       "      <td>956 yrs lease commencing from 1928</td>\n",
       "      <td>Resale</td>\n",
       "      <td>1</td>\n",
       "      <td>1270000</td>\n",
       "      <td>-</td>\n",
       "      <td>883</td>\n",
       "      <td>Strata</td>\n",
       "      <td>01 to 05</td>\n",
       "      <td>1439</td>\n",
       "      <td>May-21</td>\n",
       "    </tr>\n",
       "    <tr>\n",
       "      <th>4</th>\n",
       "      <td>5</td>\n",
       "      <td>QUEENS</td>\n",
       "      <td>STIRLING ROAD</td>\n",
       "      <td>Condominium</td>\n",
       "      <td>3</td>\n",
       "      <td>RCR</td>\n",
       "      <td>99 yrs lease commencing from 1998</td>\n",
       "      <td>Resale</td>\n",
       "      <td>1</td>\n",
       "      <td>1595000</td>\n",
       "      <td>-</td>\n",
       "      <td>1195</td>\n",
       "      <td>Strata</td>\n",
       "      <td>11 to 15</td>\n",
       "      <td>1335</td>\n",
       "      <td>May-21</td>\n",
       "    </tr>\n",
       "  </tbody>\n",
       "</table>\n",
       "</div>"
      ],
      "text/plain": [
       "   S/N              Project Name      Street Name         Type  \\\n",
       "0    1     MARINA ONE RESIDENCES       MARINA WAY    Apartment   \n",
       "1    2                 DOMAIN 21       DELTA ROAD  Condominium   \n",
       "2    3  THE ROCHESTER RESIDENCES  ROCHESTER DRIVE    Apartment   \n",
       "3    4                 CARABELLE   WEST COAST WAY  Condominium   \n",
       "4    5                    QUEENS    STIRLING ROAD  Condominium   \n",
       "\n",
       "   Postal District Market Segment                              Tenure  \\\n",
       "0                1            CCR   99 yrs lease commencing from 2011   \n",
       "1                3            RCR   99 yrs lease commencing from 2004   \n",
       "2                5            RCR   99 yrs lease commencing from 2005   \n",
       "3                5            OCR  956 yrs lease commencing from 1928   \n",
       "4                3            RCR   99 yrs lease commencing from 1998   \n",
       "\n",
       "  Type of Sale  No. of Units  Price ($) Nett Price ($)  Area (Sqft)  \\\n",
       "0       Resale             1    1691910              -          732   \n",
       "1       Resale             1    1600000              -         1033   \n",
       "2       Resale             1    1800000              -         1302   \n",
       "3       Resale             1    1270000              -          883   \n",
       "4       Resale             1    1595000              -         1195   \n",
       "\n",
       "  Type of Area Floor Level  Unit Price ($psf) Date of Sale  \n",
       "0       Strata    11 to 15               2312       May-21  \n",
       "1       Strata    16 to 20               1548       May-21  \n",
       "2       Strata    26 to 30               1382       May-21  \n",
       "3       Strata    01 to 05               1439       May-21  \n",
       "4       Strata    11 to 15               1335       May-21  "
      ]
     },
     "execution_count": 2,
     "metadata": {},
     "output_type": "execute_result"
    }
   ],
   "source": [
    "# read from csv and create a dataframe\n",
    "# view the first 5 lines\n",
    "df_1 = pd.read_csv('Private Property Resales D1-D5.csv')\n",
    "df_2 = pd.read_csv('Private Property Resales D6-D10.csv')\n",
    "df_3 = pd.read_csv('Private Property Resales D11-D15.csv')\n",
    "df_4 = pd.read_csv('Private Property Resales D16-D20.csv')\n",
    "df_5 = pd.read_csv('Private Property Resales D21-D25.csv')\n",
    "df_6 = pd.read_csv('Private Property Resales D26-D28.csv')\n",
    "\n",
    "# concatenate two dataframes into one\n",
    "df=pd.concat([df_1,df_2,df_3,df_4,df_5,df_6])\n",
    "df.head()"
   ]
  },
  {
   "cell_type": "code",
   "execution_count": 3,
   "metadata": {},
   "outputs": [
    {
     "data": {
      "text/plain": [
       "(49206, 16)"
      ]
     },
     "execution_count": 3,
     "metadata": {},
     "output_type": "execute_result"
    }
   ],
   "source": [
    "# dataframe.shape\n",
    "df.shape"
   ]
  },
  {
   "cell_type": "markdown",
   "metadata": {},
   "source": [
    "> We can see that there are 49206 rows and 16 columns."
   ]
  },
  {
   "cell_type": "code",
   "execution_count": 4,
   "metadata": {},
   "outputs": [
    {
     "data": {
      "text/plain": [
       "array(['-'], dtype=object)"
      ]
     },
     "execution_count": 4,
     "metadata": {},
     "output_type": "execute_result"
    }
   ],
   "source": [
    "# check for unique values \n",
    "df['Nett Price ($)'].unique()"
   ]
  },
  {
   "cell_type": "markdown",
   "metadata": {},
   "source": [
    "> Since nett price is blank and S/N is not needed, we can drop the columns."
   ]
  },
  {
   "cell_type": "code",
   "execution_count": 5,
   "metadata": {},
   "outputs": [],
   "source": [
    "# reset index\n",
    "df = df.reset_index(drop=True)\n",
    "# drop column \n",
    "df.drop(columns=['S/N','Nett Price ($)'], inplace=True)"
   ]
  },
  {
   "cell_type": "code",
   "execution_count": 6,
   "metadata": {},
   "outputs": [
    {
     "data": {
      "text/html": [
       "<div>\n",
       "<style scoped>\n",
       "    .dataframe tbody tr th:only-of-type {\n",
       "        vertical-align: middle;\n",
       "    }\n",
       "\n",
       "    .dataframe tbody tr th {\n",
       "        vertical-align: top;\n",
       "    }\n",
       "\n",
       "    .dataframe thead th {\n",
       "        text-align: right;\n",
       "    }\n",
       "</style>\n",
       "<table border=\"1\" class=\"dataframe\">\n",
       "  <thead>\n",
       "    <tr style=\"text-align: right;\">\n",
       "      <th></th>\n",
       "      <th>Project Name</th>\n",
       "      <th>Street Name</th>\n",
       "      <th>Type</th>\n",
       "      <th>Postal District</th>\n",
       "      <th>Market Segment</th>\n",
       "      <th>Tenure</th>\n",
       "      <th>Type of Sale</th>\n",
       "      <th>No. of Units</th>\n",
       "      <th>Price ($)</th>\n",
       "      <th>Area (Sqft)</th>\n",
       "      <th>Type of Area</th>\n",
       "      <th>Floor Level</th>\n",
       "      <th>Unit Price ($psf)</th>\n",
       "      <th>Date of Sale</th>\n",
       "    </tr>\n",
       "  </thead>\n",
       "  <tbody>\n",
       "    <tr>\n",
       "      <th>0</th>\n",
       "      <td>MARINA ONE RESIDENCES</td>\n",
       "      <td>MARINA WAY</td>\n",
       "      <td>Apartment</td>\n",
       "      <td>1</td>\n",
       "      <td>CCR</td>\n",
       "      <td>99 yrs lease commencing from 2011</td>\n",
       "      <td>Resale</td>\n",
       "      <td>1</td>\n",
       "      <td>1691910</td>\n",
       "      <td>732</td>\n",
       "      <td>Strata</td>\n",
       "      <td>11 to 15</td>\n",
       "      <td>2312</td>\n",
       "      <td>May-21</td>\n",
       "    </tr>\n",
       "    <tr>\n",
       "      <th>1</th>\n",
       "      <td>DOMAIN 21</td>\n",
       "      <td>DELTA ROAD</td>\n",
       "      <td>Condominium</td>\n",
       "      <td>3</td>\n",
       "      <td>RCR</td>\n",
       "      <td>99 yrs lease commencing from 2004</td>\n",
       "      <td>Resale</td>\n",
       "      <td>1</td>\n",
       "      <td>1600000</td>\n",
       "      <td>1033</td>\n",
       "      <td>Strata</td>\n",
       "      <td>16 to 20</td>\n",
       "      <td>1548</td>\n",
       "      <td>May-21</td>\n",
       "    </tr>\n",
       "    <tr>\n",
       "      <th>2</th>\n",
       "      <td>THE ROCHESTER RESIDENCES</td>\n",
       "      <td>ROCHESTER DRIVE</td>\n",
       "      <td>Apartment</td>\n",
       "      <td>5</td>\n",
       "      <td>RCR</td>\n",
       "      <td>99 yrs lease commencing from 2005</td>\n",
       "      <td>Resale</td>\n",
       "      <td>1</td>\n",
       "      <td>1800000</td>\n",
       "      <td>1302</td>\n",
       "      <td>Strata</td>\n",
       "      <td>26 to 30</td>\n",
       "      <td>1382</td>\n",
       "      <td>May-21</td>\n",
       "    </tr>\n",
       "    <tr>\n",
       "      <th>3</th>\n",
       "      <td>CARABELLE</td>\n",
       "      <td>WEST COAST WAY</td>\n",
       "      <td>Condominium</td>\n",
       "      <td>5</td>\n",
       "      <td>OCR</td>\n",
       "      <td>956 yrs lease commencing from 1928</td>\n",
       "      <td>Resale</td>\n",
       "      <td>1</td>\n",
       "      <td>1270000</td>\n",
       "      <td>883</td>\n",
       "      <td>Strata</td>\n",
       "      <td>01 to 05</td>\n",
       "      <td>1439</td>\n",
       "      <td>May-21</td>\n",
       "    </tr>\n",
       "    <tr>\n",
       "      <th>4</th>\n",
       "      <td>QUEENS</td>\n",
       "      <td>STIRLING ROAD</td>\n",
       "      <td>Condominium</td>\n",
       "      <td>3</td>\n",
       "      <td>RCR</td>\n",
       "      <td>99 yrs lease commencing from 1998</td>\n",
       "      <td>Resale</td>\n",
       "      <td>1</td>\n",
       "      <td>1595000</td>\n",
       "      <td>1195</td>\n",
       "      <td>Strata</td>\n",
       "      <td>11 to 15</td>\n",
       "      <td>1335</td>\n",
       "      <td>May-21</td>\n",
       "    </tr>\n",
       "    <tr>\n",
       "      <th>...</th>\n",
       "      <td>...</td>\n",
       "      <td>...</td>\n",
       "      <td>...</td>\n",
       "      <td>...</td>\n",
       "      <td>...</td>\n",
       "      <td>...</td>\n",
       "      <td>...</td>\n",
       "      <td>...</td>\n",
       "      <td>...</td>\n",
       "      <td>...</td>\n",
       "      <td>...</td>\n",
       "      <td>...</td>\n",
       "      <td>...</td>\n",
       "      <td>...</td>\n",
       "    </tr>\n",
       "    <tr>\n",
       "      <th>49201</th>\n",
       "      <td>EIGHT COURTYARDS</td>\n",
       "      <td>CANBERRA DRIVE</td>\n",
       "      <td>Condominium</td>\n",
       "      <td>27</td>\n",
       "      <td>OCR</td>\n",
       "      <td>99 yrs lease commencing from 2010</td>\n",
       "      <td>Resale</td>\n",
       "      <td>1</td>\n",
       "      <td>1015000</td>\n",
       "      <td>1087</td>\n",
       "      <td>Strata</td>\n",
       "      <td>01 to 05</td>\n",
       "      <td>934</td>\n",
       "      <td>May-16</td>\n",
       "    </tr>\n",
       "    <tr>\n",
       "      <th>49202</th>\n",
       "      <td>EUPHONY GARDENS</td>\n",
       "      <td>JALAN MATA AYER</td>\n",
       "      <td>Condominium</td>\n",
       "      <td>27</td>\n",
       "      <td>OCR</td>\n",
       "      <td>99 yrs lease commencing from 1998</td>\n",
       "      <td>Resale</td>\n",
       "      <td>1</td>\n",
       "      <td>1000000</td>\n",
       "      <td>1453</td>\n",
       "      <td>Strata</td>\n",
       "      <td>01 to 05</td>\n",
       "      <td>688</td>\n",
       "      <td>May-16</td>\n",
       "    </tr>\n",
       "    <tr>\n",
       "      <th>49203</th>\n",
       "      <td>SERENITY PARK</td>\n",
       "      <td>TAMARIND ROAD</td>\n",
       "      <td>Condominium</td>\n",
       "      <td>28</td>\n",
       "      <td>OCR</td>\n",
       "      <td>Freehold</td>\n",
       "      <td>Resale</td>\n",
       "      <td>1</td>\n",
       "      <td>1030000</td>\n",
       "      <td>1324</td>\n",
       "      <td>Strata</td>\n",
       "      <td>01 to 05</td>\n",
       "      <td>778</td>\n",
       "      <td>May-16</td>\n",
       "    </tr>\n",
       "    <tr>\n",
       "      <th>49204</th>\n",
       "      <td>THE MILTONIA RESIDENCES</td>\n",
       "      <td>MILTONIA CLOSE</td>\n",
       "      <td>Condominium</td>\n",
       "      <td>27</td>\n",
       "      <td>OCR</td>\n",
       "      <td>99 yrs lease commencing from 2010</td>\n",
       "      <td>Resale</td>\n",
       "      <td>1</td>\n",
       "      <td>1530000</td>\n",
       "      <td>2077</td>\n",
       "      <td>Strata</td>\n",
       "      <td>01 to 05</td>\n",
       "      <td>736</td>\n",
       "      <td>May-16</td>\n",
       "    </tr>\n",
       "    <tr>\n",
       "      <th>49205</th>\n",
       "      <td>SELETAR PARK RESIDENCE</td>\n",
       "      <td>SELETAR ROAD</td>\n",
       "      <td>Condominium</td>\n",
       "      <td>28</td>\n",
       "      <td>OCR</td>\n",
       "      <td>99 yrs lease commencing from 2011</td>\n",
       "      <td>Resale</td>\n",
       "      <td>1</td>\n",
       "      <td>1700000</td>\n",
       "      <td>1378</td>\n",
       "      <td>Strata</td>\n",
       "      <td>01 to 05</td>\n",
       "      <td>1234</td>\n",
       "      <td>May-16</td>\n",
       "    </tr>\n",
       "  </tbody>\n",
       "</table>\n",
       "<p>49206 rows × 14 columns</p>\n",
       "</div>"
      ],
      "text/plain": [
       "                   Project Name      Street Name         Type  \\\n",
       "0         MARINA ONE RESIDENCES       MARINA WAY    Apartment   \n",
       "1                     DOMAIN 21       DELTA ROAD  Condominium   \n",
       "2      THE ROCHESTER RESIDENCES  ROCHESTER DRIVE    Apartment   \n",
       "3                     CARABELLE   WEST COAST WAY  Condominium   \n",
       "4                        QUEENS    STIRLING ROAD  Condominium   \n",
       "...                         ...              ...          ...   \n",
       "49201          EIGHT COURTYARDS   CANBERRA DRIVE  Condominium   \n",
       "49202           EUPHONY GARDENS  JALAN MATA AYER  Condominium   \n",
       "49203             SERENITY PARK    TAMARIND ROAD  Condominium   \n",
       "49204   THE MILTONIA RESIDENCES   MILTONIA CLOSE  Condominium   \n",
       "49205    SELETAR PARK RESIDENCE     SELETAR ROAD  Condominium   \n",
       "\n",
       "       Postal District Market Segment                              Tenure  \\\n",
       "0                    1            CCR   99 yrs lease commencing from 2011   \n",
       "1                    3            RCR   99 yrs lease commencing from 2004   \n",
       "2                    5            RCR   99 yrs lease commencing from 2005   \n",
       "3                    5            OCR  956 yrs lease commencing from 1928   \n",
       "4                    3            RCR   99 yrs lease commencing from 1998   \n",
       "...                ...            ...                                 ...   \n",
       "49201               27            OCR   99 yrs lease commencing from 2010   \n",
       "49202               27            OCR   99 yrs lease commencing from 1998   \n",
       "49203               28            OCR                            Freehold   \n",
       "49204               27            OCR   99 yrs lease commencing from 2010   \n",
       "49205               28            OCR   99 yrs lease commencing from 2011   \n",
       "\n",
       "      Type of Sale  No. of Units  Price ($)  Area (Sqft) Type of Area  \\\n",
       "0           Resale             1    1691910          732       Strata   \n",
       "1           Resale             1    1600000         1033       Strata   \n",
       "2           Resale             1    1800000         1302       Strata   \n",
       "3           Resale             1    1270000          883       Strata   \n",
       "4           Resale             1    1595000         1195       Strata   \n",
       "...            ...           ...        ...          ...          ...   \n",
       "49201       Resale             1    1015000         1087       Strata   \n",
       "49202       Resale             1    1000000         1453       Strata   \n",
       "49203       Resale             1    1030000         1324       Strata   \n",
       "49204       Resale             1    1530000         2077       Strata   \n",
       "49205       Resale             1    1700000         1378       Strata   \n",
       "\n",
       "      Floor Level  Unit Price ($psf) Date of Sale  \n",
       "0        11 to 15               2312       May-21  \n",
       "1        16 to 20               1548       May-21  \n",
       "2        26 to 30               1382       May-21  \n",
       "3        01 to 05               1439       May-21  \n",
       "4        11 to 15               1335       May-21  \n",
       "...           ...                ...          ...  \n",
       "49201    01 to 05                934       May-16  \n",
       "49202    01 to 05                688       May-16  \n",
       "49203    01 to 05                778       May-16  \n",
       "49204    01 to 05                736       May-16  \n",
       "49205    01 to 05               1234       May-16  \n",
       "\n",
       "[49206 rows x 14 columns]"
      ]
     },
     "execution_count": 6,
     "metadata": {},
     "output_type": "execute_result"
    }
   ],
   "source": [
    "df"
   ]
  },
  {
   "cell_type": "markdown",
   "metadata": {},
   "source": [
    "### EDA & Data Wranggling"
   ]
  },
  {
   "cell_type": "markdown",
   "metadata": {},
   "source": [
    "### Preliminary Cleaning"
   ]
  },
  {
   "cell_type": "code",
   "execution_count": 7,
   "metadata": {},
   "outputs": [
    {
     "name": "stdout",
     "output_type": "stream",
     "text": [
      "<class 'pandas.core.frame.DataFrame'>\n",
      "RangeIndex: 49206 entries, 0 to 49205\n",
      "Data columns (total 14 columns):\n",
      " #   Column             Non-Null Count  Dtype \n",
      "---  ------             --------------  ----- \n",
      " 0   Project Name       49206 non-null  object\n",
      " 1   Street Name        49206 non-null  object\n",
      " 2   Type               49206 non-null  object\n",
      " 3   Postal District    49206 non-null  int64 \n",
      " 4   Market Segment     49206 non-null  object\n",
      " 5   Tenure             49205 non-null  object\n",
      " 6   Type of Sale       49206 non-null  object\n",
      " 7   No. of Units       49206 non-null  int64 \n",
      " 8   Price ($)          49206 non-null  int64 \n",
      " 9   Area (Sqft)        49206 non-null  int64 \n",
      " 10  Type of Area       49206 non-null  object\n",
      " 11  Floor Level        49206 non-null  object\n",
      " 12  Unit Price ($psf)  49206 non-null  int64 \n",
      " 13  Date of Sale       49206 non-null  object\n",
      "dtypes: int64(5), object(9)\n",
      "memory usage: 5.3+ MB\n"
     ]
    }
   ],
   "source": [
    "# obtain summary of the dataframe\n",
    "df.info()"
   ]
  },
  {
   "cell_type": "code",
   "execution_count": 8,
   "metadata": {},
   "outputs": [
    {
     "name": "stdout",
     "output_type": "stream",
     "text": [
      "Project Name         False\n",
      "Street Name          False\n",
      "Type                 False\n",
      "Postal District      False\n",
      "Market Segment       False\n",
      "Tenure                True\n",
      "Type of Sale         False\n",
      "No. of Units         False\n",
      "Price ($)            False\n",
      "Area (Sqft)          False\n",
      "Type of Area         False\n",
      "Floor Level          False\n",
      "Unit Price ($psf)    False\n",
      "Date of Sale         False\n",
      "dtype: bool\n",
      "---------------\n",
      "Index(['Tenure'], dtype='object')\n"
     ]
    }
   ],
   "source": [
    "# check whether the columns have any missing values\n",
    "print(df.isnull().any())\n",
    "print('---------------')\n",
    "# obtain list of columns with missing values\n",
    "print(df.columns[df.isnull().any()])"
   ]
  },
  {
   "cell_type": "markdown",
   "metadata": {},
   "source": [
    "> From the above, we can see that Tenure has a blank value."
   ]
  },
  {
   "cell_type": "code",
   "execution_count": 9,
   "metadata": {},
   "outputs": [
    {
     "name": "stdout",
     "output_type": "stream",
     "text": [
      "Project Name         0\n",
      "Street Name          0\n",
      "Type                 0\n",
      "Postal District      0\n",
      "Market Segment       0\n",
      "Tenure               1\n",
      "Type of Sale         0\n",
      "No. of Units         0\n",
      "Price ($)            0\n",
      "Area (Sqft)          0\n",
      "Type of Area         0\n",
      "Floor Level          0\n",
      "Unit Price ($psf)    0\n",
      "Date of Sale         0\n",
      "dtype: int64\n",
      "---------------\n",
      "1\n"
     ]
    }
   ],
   "source": [
    "# obtain no of missing values per column\n",
    "print(df.isnull().sum())\n",
    "print('---------------')\n",
    "# obtain total no of missing values by column\n",
    "print(df.isnull().sum().sum())"
   ]
  },
  {
   "cell_type": "markdown",
   "metadata": {},
   "source": [
    "> We have a total of 1 missing value in Tenure."
   ]
  },
  {
   "cell_type": "code",
   "execution_count": 10,
   "metadata": {},
   "outputs": [
    {
     "name": "stdout",
     "output_type": "stream",
     "text": [
      "0        False\n",
      "1        False\n",
      "2        False\n",
      "3        False\n",
      "4        False\n",
      "         ...  \n",
      "49201    False\n",
      "49202    False\n",
      "49203    False\n",
      "49204    False\n",
      "49205    False\n",
      "Length: 49206, dtype: bool\n",
      "---------------\n",
      "Int64Index([25399], dtype='int64')\n"
     ]
    }
   ],
   "source": [
    "# check whether the rows have any missing values\n",
    "print(df.isnull().any(axis=1))\n",
    "print('---------------')\n",
    "# obtain list of rows with missing values\n",
    "print(df.index[df.isnull().any(axis=1)])"
   ]
  },
  {
   "cell_type": "markdown",
   "metadata": {},
   "source": [
    "> We can see that we do not have any rows that have missing values."
   ]
  },
  {
   "cell_type": "code",
   "execution_count": 11,
   "metadata": {},
   "outputs": [
    {
     "name": "stdout",
     "output_type": "stream",
     "text": [
      "0        0\n",
      "1        0\n",
      "2        0\n",
      "3        0\n",
      "4        0\n",
      "        ..\n",
      "49201    0\n",
      "49202    0\n",
      "49203    0\n",
      "49204    0\n",
      "49205    0\n",
      "Length: 49206, dtype: int64\n",
      "---------------\n",
      "1\n"
     ]
    }
   ],
   "source": [
    "# obtain no of missing values per row\n",
    "print(df.isnull().sum(axis=1))\n",
    "print('---------------')\n",
    "# obtain total no of missing values by row\n",
    "print(df.isnull().sum(axis=1).sum())"
   ]
  },
  {
   "cell_type": "code",
   "execution_count": 12,
   "metadata": {},
   "outputs": [
    {
     "data": {
      "text/html": [
       "<div>\n",
       "<style scoped>\n",
       "    .dataframe tbody tr th:only-of-type {\n",
       "        vertical-align: middle;\n",
       "    }\n",
       "\n",
       "    .dataframe tbody tr th {\n",
       "        vertical-align: top;\n",
       "    }\n",
       "\n",
       "    .dataframe thead th {\n",
       "        text-align: right;\n",
       "    }\n",
       "</style>\n",
       "<table border=\"1\" class=\"dataframe\">\n",
       "  <thead>\n",
       "    <tr style=\"text-align: right;\">\n",
       "      <th></th>\n",
       "      <th>Project Name</th>\n",
       "      <th>Street Name</th>\n",
       "      <th>Type</th>\n",
       "      <th>Postal District</th>\n",
       "      <th>Market Segment</th>\n",
       "      <th>Tenure</th>\n",
       "      <th>Type of Sale</th>\n",
       "      <th>No. of Units</th>\n",
       "      <th>Price ($)</th>\n",
       "      <th>Area (Sqft)</th>\n",
       "      <th>Type of Area</th>\n",
       "      <th>Floor Level</th>\n",
       "      <th>Unit Price ($psf)</th>\n",
       "      <th>Date of Sale</th>\n",
       "    </tr>\n",
       "  </thead>\n",
       "  <tbody>\n",
       "    <tr>\n",
       "      <th>25399</th>\n",
       "      <td>EMERY POINT</td>\n",
       "      <td>IPOH LANE</td>\n",
       "      <td>Apartment</td>\n",
       "      <td>15</td>\n",
       "      <td>RCR</td>\n",
       "      <td>NaN</td>\n",
       "      <td>Resale</td>\n",
       "      <td>1</td>\n",
       "      <td>725000</td>\n",
       "      <td>1302</td>\n",
       "      <td>Strata</td>\n",
       "      <td>01 to 05</td>\n",
       "      <td>557</td>\n",
       "      <td>Jul-17</td>\n",
       "    </tr>\n",
       "  </tbody>\n",
       "</table>\n",
       "</div>"
      ],
      "text/plain": [
       "      Project Name Street Name       Type  Postal District Market Segment  \\\n",
       "25399  EMERY POINT   IPOH LANE  Apartment               15            RCR   \n",
       "\n",
       "      Tenure Type of Sale  No. of Units  Price ($)  Area (Sqft) Type of Area  \\\n",
       "25399    NaN       Resale             1     725000         1302       Strata   \n",
       "\n",
       "      Floor Level  Unit Price ($psf) Date of Sale  \n",
       "25399    01 to 05                557       Jul-17  "
      ]
     },
     "execution_count": 12,
     "metadata": {},
     "output_type": "execute_result"
    }
   ],
   "source": [
    "# show all records info that has missing data\n",
    "df[df.isnull().any(axis=1)]"
   ]
  },
  {
   "cell_type": "code",
   "execution_count": 13,
   "metadata": {},
   "outputs": [
    {
     "name": "stdout",
     "output_type": "stream",
     "text": [
      "Project Name         EMERY POINT\n",
      "Street Name            IPOH LANE\n",
      "Type                   Apartment\n",
      "Postal District               15\n",
      "Market Segment               RCR\n",
      "Tenure                  Freehold\n",
      "Type of Sale              Resale\n",
      "No. of Units                   1\n",
      "Price ($)                 725000\n",
      "Area (Sqft)                 1302\n",
      "Type of Area              Strata\n",
      "Floor Level             01 to 05\n",
      "Unit Price ($psf)            557\n",
      "Date of Sale              Jul-17\n",
      "Name: 25399, dtype: object\n"
     ]
    }
   ],
   "source": [
    "# fill missing value with specific value \n",
    "df = df.fillna({'Tenure': 'Freehold'})\n",
    "# read specific row\n",
    "print(df.loc[25399])"
   ]
  },
  {
   "cell_type": "markdown",
   "metadata": {},
   "source": [
    "### Check for duplicated rows in dataset"
   ]
  },
  {
   "cell_type": "code",
   "execution_count": 14,
   "metadata": {},
   "outputs": [
    {
     "data": {
      "text/html": [
       "<div>\n",
       "<style scoped>\n",
       "    .dataframe tbody tr th:only-of-type {\n",
       "        vertical-align: middle;\n",
       "    }\n",
       "\n",
       "    .dataframe tbody tr th {\n",
       "        vertical-align: top;\n",
       "    }\n",
       "\n",
       "    .dataframe thead th {\n",
       "        text-align: right;\n",
       "    }\n",
       "</style>\n",
       "<table border=\"1\" class=\"dataframe\">\n",
       "  <thead>\n",
       "    <tr style=\"text-align: right;\">\n",
       "      <th></th>\n",
       "      <th>Project Name</th>\n",
       "      <th>Street Name</th>\n",
       "      <th>Type</th>\n",
       "      <th>Postal District</th>\n",
       "      <th>Market Segment</th>\n",
       "      <th>Tenure</th>\n",
       "      <th>Type of Sale</th>\n",
       "      <th>No. of Units</th>\n",
       "      <th>Price ($)</th>\n",
       "      <th>Area (Sqft)</th>\n",
       "      <th>Type of Area</th>\n",
       "      <th>Floor Level</th>\n",
       "      <th>Unit Price ($psf)</th>\n",
       "      <th>Date of Sale</th>\n",
       "    </tr>\n",
       "  </thead>\n",
       "  <tbody>\n",
       "    <tr>\n",
       "      <th>98</th>\n",
       "      <td>HERITAGE VIEW</td>\n",
       "      <td>DOVER RISE</td>\n",
       "      <td>Condominium</td>\n",
       "      <td>5</td>\n",
       "      <td>RCR</td>\n",
       "      <td>99 yrs lease commencing from 1996</td>\n",
       "      <td>Resale</td>\n",
       "      <td>1</td>\n",
       "      <td>1200000</td>\n",
       "      <td>969</td>\n",
       "      <td>Strata</td>\n",
       "      <td>01 to 05</td>\n",
       "      <td>1239</td>\n",
       "      <td>May-21</td>\n",
       "    </tr>\n",
       "    <tr>\n",
       "      <th>394</th>\n",
       "      <td>THE OCEANFRONT @ SENTOSA COVE</td>\n",
       "      <td>OCEAN DRIVE</td>\n",
       "      <td>Condominium</td>\n",
       "      <td>4</td>\n",
       "      <td>CCR</td>\n",
       "      <td>99 yrs lease commencing from 2005</td>\n",
       "      <td>Resale</td>\n",
       "      <td>1</td>\n",
       "      <td>3435000</td>\n",
       "      <td>2013</td>\n",
       "      <td>Strata</td>\n",
       "      <td>01 to 05</td>\n",
       "      <td>1707</td>\n",
       "      <td>Mar-21</td>\n",
       "    </tr>\n",
       "    <tr>\n",
       "      <th>421</th>\n",
       "      <td>MARINA COLLECTION</td>\n",
       "      <td>COVE DRIVE</td>\n",
       "      <td>Condominium</td>\n",
       "      <td>4</td>\n",
       "      <td>CCR</td>\n",
       "      <td>99 yrs lease commencing from 2007</td>\n",
       "      <td>Resale</td>\n",
       "      <td>1</td>\n",
       "      <td>6250000</td>\n",
       "      <td>3412</td>\n",
       "      <td>Strata</td>\n",
       "      <td>01 to 05</td>\n",
       "      <td>1832</td>\n",
       "      <td>Mar-21</td>\n",
       "    </tr>\n",
       "    <tr>\n",
       "      <th>440</th>\n",
       "      <td>CARIBBEAN AT KEPPEL BAY</td>\n",
       "      <td>KEPPEL BAY DRIVE</td>\n",
       "      <td>Condominium</td>\n",
       "      <td>4</td>\n",
       "      <td>RCR</td>\n",
       "      <td>99 yrs lease commencing from 1999</td>\n",
       "      <td>Resale</td>\n",
       "      <td>1</td>\n",
       "      <td>2200000</td>\n",
       "      <td>1335</td>\n",
       "      <td>Strata</td>\n",
       "      <td>01 to 05</td>\n",
       "      <td>1648</td>\n",
       "      <td>Mar-21</td>\n",
       "    </tr>\n",
       "    <tr>\n",
       "      <th>677</th>\n",
       "      <td>SEASCAPE</td>\n",
       "      <td>COVE WAY</td>\n",
       "      <td>Condominium</td>\n",
       "      <td>4</td>\n",
       "      <td>CCR</td>\n",
       "      <td>99 yrs lease commencing from 2007</td>\n",
       "      <td>Resale</td>\n",
       "      <td>1</td>\n",
       "      <td>6000000</td>\n",
       "      <td>2852</td>\n",
       "      <td>Strata</td>\n",
       "      <td>06 to 10</td>\n",
       "      <td>2103</td>\n",
       "      <td>Jan-21</td>\n",
       "    </tr>\n",
       "    <tr>\n",
       "      <th>...</th>\n",
       "      <td>...</td>\n",
       "      <td>...</td>\n",
       "      <td>...</td>\n",
       "      <td>...</td>\n",
       "      <td>...</td>\n",
       "      <td>...</td>\n",
       "      <td>...</td>\n",
       "      <td>...</td>\n",
       "      <td>...</td>\n",
       "      <td>...</td>\n",
       "      <td>...</td>\n",
       "      <td>...</td>\n",
       "      <td>...</td>\n",
       "      <td>...</td>\n",
       "    </tr>\n",
       "    <tr>\n",
       "      <th>48630</th>\n",
       "      <td>CASTLE GREEN</td>\n",
       "      <td>YIO CHU KANG ROAD</td>\n",
       "      <td>Condominium</td>\n",
       "      <td>26</td>\n",
       "      <td>OCR</td>\n",
       "      <td>99 yrs lease commencing from 1993</td>\n",
       "      <td>Resale</td>\n",
       "      <td>1</td>\n",
       "      <td>940000</td>\n",
       "      <td>1152</td>\n",
       "      <td>Strata</td>\n",
       "      <td>01 to 05</td>\n",
       "      <td>816</td>\n",
       "      <td>Dec-17</td>\n",
       "    </tr>\n",
       "    <tr>\n",
       "      <th>48645</th>\n",
       "      <td>THE MILTONIA RESIDENCES</td>\n",
       "      <td>MILTONIA CLOSE</td>\n",
       "      <td>Condominium</td>\n",
       "      <td>27</td>\n",
       "      <td>OCR</td>\n",
       "      <td>99 yrs lease commencing from 2010</td>\n",
       "      <td>Resale</td>\n",
       "      <td>1</td>\n",
       "      <td>830000</td>\n",
       "      <td>861</td>\n",
       "      <td>Strata</td>\n",
       "      <td>01 to 05</td>\n",
       "      <td>964</td>\n",
       "      <td>Dec-17</td>\n",
       "    </tr>\n",
       "    <tr>\n",
       "      <th>48682</th>\n",
       "      <td>SERENITY PARK</td>\n",
       "      <td>TAMARIND ROAD</td>\n",
       "      <td>Condominium</td>\n",
       "      <td>28</td>\n",
       "      <td>OCR</td>\n",
       "      <td>Freehold</td>\n",
       "      <td>Resale</td>\n",
       "      <td>1</td>\n",
       "      <td>1330000</td>\n",
       "      <td>1432</td>\n",
       "      <td>Strata</td>\n",
       "      <td>01 to 05</td>\n",
       "      <td>929</td>\n",
       "      <td>Nov-17</td>\n",
       "    </tr>\n",
       "    <tr>\n",
       "      <th>48937</th>\n",
       "      <td>THE MILTONIA RESIDENCES</td>\n",
       "      <td>MILTONIA CLOSE</td>\n",
       "      <td>Condominium</td>\n",
       "      <td>27</td>\n",
       "      <td>OCR</td>\n",
       "      <td>99 yrs lease commencing from 2010</td>\n",
       "      <td>Resale</td>\n",
       "      <td>1</td>\n",
       "      <td>588000</td>\n",
       "      <td>517</td>\n",
       "      <td>Strata</td>\n",
       "      <td>01 to 05</td>\n",
       "      <td>1138</td>\n",
       "      <td>Apr-17</td>\n",
       "    </tr>\n",
       "    <tr>\n",
       "      <th>49013</th>\n",
       "      <td>CASTLE GREEN</td>\n",
       "      <td>YIO CHU KANG ROAD</td>\n",
       "      <td>Condominium</td>\n",
       "      <td>26</td>\n",
       "      <td>OCR</td>\n",
       "      <td>99 yrs lease commencing from 1993</td>\n",
       "      <td>Resale</td>\n",
       "      <td>1</td>\n",
       "      <td>970000</td>\n",
       "      <td>1152</td>\n",
       "      <td>Strata</td>\n",
       "      <td>06 to 10</td>\n",
       "      <td>842</td>\n",
       "      <td>Feb-17</td>\n",
       "    </tr>\n",
       "  </tbody>\n",
       "</table>\n",
       "<p>190 rows × 14 columns</p>\n",
       "</div>"
      ],
      "text/plain": [
       "                        Project Name        Street Name         Type  \\\n",
       "98                     HERITAGE VIEW         DOVER RISE  Condominium   \n",
       "394    THE OCEANFRONT @ SENTOSA COVE        OCEAN DRIVE  Condominium   \n",
       "421                MARINA COLLECTION         COVE DRIVE  Condominium   \n",
       "440          CARIBBEAN AT KEPPEL BAY   KEPPEL BAY DRIVE  Condominium   \n",
       "677                         SEASCAPE           COVE WAY  Condominium   \n",
       "...                              ...                ...          ...   \n",
       "48630                   CASTLE GREEN  YIO CHU KANG ROAD  Condominium   \n",
       "48645        THE MILTONIA RESIDENCES     MILTONIA CLOSE  Condominium   \n",
       "48682                  SERENITY PARK      TAMARIND ROAD  Condominium   \n",
       "48937        THE MILTONIA RESIDENCES     MILTONIA CLOSE  Condominium   \n",
       "49013                   CASTLE GREEN  YIO CHU KANG ROAD  Condominium   \n",
       "\n",
       "       Postal District Market Segment                             Tenure  \\\n",
       "98                   5            RCR  99 yrs lease commencing from 1996   \n",
       "394                  4            CCR  99 yrs lease commencing from 2005   \n",
       "421                  4            CCR  99 yrs lease commencing from 2007   \n",
       "440                  4            RCR  99 yrs lease commencing from 1999   \n",
       "677                  4            CCR  99 yrs lease commencing from 2007   \n",
       "...                ...            ...                                ...   \n",
       "48630               26            OCR  99 yrs lease commencing from 1993   \n",
       "48645               27            OCR  99 yrs lease commencing from 2010   \n",
       "48682               28            OCR                           Freehold   \n",
       "48937               27            OCR  99 yrs lease commencing from 2010   \n",
       "49013               26            OCR  99 yrs lease commencing from 1993   \n",
       "\n",
       "      Type of Sale  No. of Units  Price ($)  Area (Sqft) Type of Area  \\\n",
       "98          Resale             1    1200000          969       Strata   \n",
       "394         Resale             1    3435000         2013       Strata   \n",
       "421         Resale             1    6250000         3412       Strata   \n",
       "440         Resale             1    2200000         1335       Strata   \n",
       "677         Resale             1    6000000         2852       Strata   \n",
       "...            ...           ...        ...          ...          ...   \n",
       "48630       Resale             1     940000         1152       Strata   \n",
       "48645       Resale             1     830000          861       Strata   \n",
       "48682       Resale             1    1330000         1432       Strata   \n",
       "48937       Resale             1     588000          517       Strata   \n",
       "49013       Resale             1     970000         1152       Strata   \n",
       "\n",
       "      Floor Level  Unit Price ($psf) Date of Sale  \n",
       "98       01 to 05               1239       May-21  \n",
       "394      01 to 05               1707       Mar-21  \n",
       "421      01 to 05               1832       Mar-21  \n",
       "440      01 to 05               1648       Mar-21  \n",
       "677      06 to 10               2103       Jan-21  \n",
       "...           ...                ...          ...  \n",
       "48630    01 to 05                816       Dec-17  \n",
       "48645    01 to 05                964       Dec-17  \n",
       "48682    01 to 05                929       Nov-17  \n",
       "48937    01 to 05               1138       Apr-17  \n",
       "49013    06 to 10                842       Feb-17  \n",
       "\n",
       "[190 rows x 14 columns]"
      ]
     },
     "execution_count": 14,
     "metadata": {},
     "output_type": "execute_result"
    }
   ],
   "source": [
    "# check for duplicated rows\n",
    "df[df.duplicated()]"
   ]
  },
  {
   "cell_type": "markdown",
   "metadata": {},
   "source": [
    "> From the above, we have a total of 190 rows that are duplicated."
   ]
  },
  {
   "cell_type": "code",
   "execution_count": 15,
   "metadata": {},
   "outputs": [],
   "source": [
    "df1=df.copy()"
   ]
  },
  {
   "cell_type": "code",
   "execution_count": 16,
   "metadata": {},
   "outputs": [
    {
     "data": {
      "text/plain": [
       "(49206, 14)"
      ]
     },
     "execution_count": 16,
     "metadata": {},
     "output_type": "execute_result"
    }
   ],
   "source": [
    "# dataframe.shape\n",
    "df1.shape"
   ]
  },
  {
   "cell_type": "code",
   "execution_count": 17,
   "metadata": {},
   "outputs": [],
   "source": [
    "# drop duplicates\n",
    "df1.drop_duplicates(keep=False,inplace=True)"
   ]
  },
  {
   "cell_type": "code",
   "execution_count": 18,
   "metadata": {},
   "outputs": [
    {
     "data": {
      "text/plain": [
       "(48850, 14)"
      ]
     },
     "execution_count": 18,
     "metadata": {},
     "output_type": "execute_result"
    }
   ],
   "source": [
    "# dataframe.shape\n",
    "df1.shape"
   ]
  },
  {
   "cell_type": "code",
   "execution_count": 19,
   "metadata": {},
   "outputs": [
    {
     "data": {
      "text/html": [
       "<div>\n",
       "<style scoped>\n",
       "    .dataframe tbody tr th:only-of-type {\n",
       "        vertical-align: middle;\n",
       "    }\n",
       "\n",
       "    .dataframe tbody tr th {\n",
       "        vertical-align: top;\n",
       "    }\n",
       "\n",
       "    .dataframe thead th {\n",
       "        text-align: right;\n",
       "    }\n",
       "</style>\n",
       "<table border=\"1\" class=\"dataframe\">\n",
       "  <thead>\n",
       "    <tr style=\"text-align: right;\">\n",
       "      <th></th>\n",
       "      <th>Project Name</th>\n",
       "      <th>Street Name</th>\n",
       "      <th>Type</th>\n",
       "      <th>Postal District</th>\n",
       "      <th>Market Segment</th>\n",
       "      <th>Tenure</th>\n",
       "      <th>Type of Sale</th>\n",
       "      <th>No. of Units</th>\n",
       "      <th>Price ($)</th>\n",
       "      <th>Area (Sqft)</th>\n",
       "      <th>Type of Area</th>\n",
       "      <th>Floor Level</th>\n",
       "      <th>Unit Price ($psf)</th>\n",
       "      <th>Date of Sale</th>\n",
       "    </tr>\n",
       "  </thead>\n",
       "  <tbody>\n",
       "  </tbody>\n",
       "</table>\n",
       "</div>"
      ],
      "text/plain": [
       "Empty DataFrame\n",
       "Columns: [Project Name, Street Name, Type, Postal District, Market Segment, Tenure, Type of Sale, No. of Units, Price ($), Area (Sqft), Type of Area, Floor Level, Unit Price ($psf), Date of Sale]\n",
       "Index: []"
      ]
     },
     "execution_count": 19,
     "metadata": {},
     "output_type": "execute_result"
    }
   ],
   "source": [
    "# check for duplicated rows\n",
    "df1[df1.duplicated()]"
   ]
  },
  {
   "cell_type": "markdown",
   "metadata": {},
   "source": [
    "> We drop the duplicated rows in our dataset."
   ]
  },
  {
   "cell_type": "markdown",
   "metadata": {},
   "source": [
    "### Rename Column Names"
   ]
  },
  {
   "cell_type": "code",
   "execution_count": 20,
   "metadata": {},
   "outputs": [
    {
     "data": {
      "text/html": [
       "<div>\n",
       "<style scoped>\n",
       "    .dataframe tbody tr th:only-of-type {\n",
       "        vertical-align: middle;\n",
       "    }\n",
       "\n",
       "    .dataframe tbody tr th {\n",
       "        vertical-align: top;\n",
       "    }\n",
       "\n",
       "    .dataframe thead th {\n",
       "        text-align: right;\n",
       "    }\n",
       "</style>\n",
       "<table border=\"1\" class=\"dataframe\">\n",
       "  <thead>\n",
       "    <tr style=\"text-align: right;\">\n",
       "      <th></th>\n",
       "      <th>project_name</th>\n",
       "      <th>street_name</th>\n",
       "      <th>type</th>\n",
       "      <th>postal_district</th>\n",
       "      <th>market_segment</th>\n",
       "      <th>tenure</th>\n",
       "      <th>type_of_sale</th>\n",
       "      <th>no_of_units</th>\n",
       "      <th>price</th>\n",
       "      <th>area</th>\n",
       "      <th>type_of_area</th>\n",
       "      <th>floor_level</th>\n",
       "      <th>unit_price</th>\n",
       "      <th>date_of_sale</th>\n",
       "    </tr>\n",
       "  </thead>\n",
       "  <tbody>\n",
       "    <tr>\n",
       "      <th>0</th>\n",
       "      <td>MARINA ONE RESIDENCES</td>\n",
       "      <td>MARINA WAY</td>\n",
       "      <td>Apartment</td>\n",
       "      <td>1</td>\n",
       "      <td>CCR</td>\n",
       "      <td>99 yrs lease commencing from 2011</td>\n",
       "      <td>Resale</td>\n",
       "      <td>1</td>\n",
       "      <td>1691910</td>\n",
       "      <td>732</td>\n",
       "      <td>Strata</td>\n",
       "      <td>11 to 15</td>\n",
       "      <td>2312</td>\n",
       "      <td>May-21</td>\n",
       "    </tr>\n",
       "    <tr>\n",
       "      <th>1</th>\n",
       "      <td>DOMAIN 21</td>\n",
       "      <td>DELTA ROAD</td>\n",
       "      <td>Condominium</td>\n",
       "      <td>3</td>\n",
       "      <td>RCR</td>\n",
       "      <td>99 yrs lease commencing from 2004</td>\n",
       "      <td>Resale</td>\n",
       "      <td>1</td>\n",
       "      <td>1600000</td>\n",
       "      <td>1033</td>\n",
       "      <td>Strata</td>\n",
       "      <td>16 to 20</td>\n",
       "      <td>1548</td>\n",
       "      <td>May-21</td>\n",
       "    </tr>\n",
       "    <tr>\n",
       "      <th>2</th>\n",
       "      <td>THE ROCHESTER RESIDENCES</td>\n",
       "      <td>ROCHESTER DRIVE</td>\n",
       "      <td>Apartment</td>\n",
       "      <td>5</td>\n",
       "      <td>RCR</td>\n",
       "      <td>99 yrs lease commencing from 2005</td>\n",
       "      <td>Resale</td>\n",
       "      <td>1</td>\n",
       "      <td>1800000</td>\n",
       "      <td>1302</td>\n",
       "      <td>Strata</td>\n",
       "      <td>26 to 30</td>\n",
       "      <td>1382</td>\n",
       "      <td>May-21</td>\n",
       "    </tr>\n",
       "    <tr>\n",
       "      <th>3</th>\n",
       "      <td>CARABELLE</td>\n",
       "      <td>WEST COAST WAY</td>\n",
       "      <td>Condominium</td>\n",
       "      <td>5</td>\n",
       "      <td>OCR</td>\n",
       "      <td>956 yrs lease commencing from 1928</td>\n",
       "      <td>Resale</td>\n",
       "      <td>1</td>\n",
       "      <td>1270000</td>\n",
       "      <td>883</td>\n",
       "      <td>Strata</td>\n",
       "      <td>01 to 05</td>\n",
       "      <td>1439</td>\n",
       "      <td>May-21</td>\n",
       "    </tr>\n",
       "    <tr>\n",
       "      <th>4</th>\n",
       "      <td>QUEENS</td>\n",
       "      <td>STIRLING ROAD</td>\n",
       "      <td>Condominium</td>\n",
       "      <td>3</td>\n",
       "      <td>RCR</td>\n",
       "      <td>99 yrs lease commencing from 1998</td>\n",
       "      <td>Resale</td>\n",
       "      <td>1</td>\n",
       "      <td>1595000</td>\n",
       "      <td>1195</td>\n",
       "      <td>Strata</td>\n",
       "      <td>11 to 15</td>\n",
       "      <td>1335</td>\n",
       "      <td>May-21</td>\n",
       "    </tr>\n",
       "  </tbody>\n",
       "</table>\n",
       "</div>"
      ],
      "text/plain": [
       "               project_name      street_name         type  postal_district  \\\n",
       "0     MARINA ONE RESIDENCES       MARINA WAY    Apartment                1   \n",
       "1                 DOMAIN 21       DELTA ROAD  Condominium                3   \n",
       "2  THE ROCHESTER RESIDENCES  ROCHESTER DRIVE    Apartment                5   \n",
       "3                 CARABELLE   WEST COAST WAY  Condominium                5   \n",
       "4                    QUEENS    STIRLING ROAD  Condominium                3   \n",
       "\n",
       "  market_segment                              tenure type_of_sale  \\\n",
       "0            CCR   99 yrs lease commencing from 2011       Resale   \n",
       "1            RCR   99 yrs lease commencing from 2004       Resale   \n",
       "2            RCR   99 yrs lease commencing from 2005       Resale   \n",
       "3            OCR  956 yrs lease commencing from 1928       Resale   \n",
       "4            RCR   99 yrs lease commencing from 1998       Resale   \n",
       "\n",
       "   no_of_units    price  area type_of_area floor_level  unit_price  \\\n",
       "0            1  1691910   732       Strata    11 to 15        2312   \n",
       "1            1  1600000  1033       Strata    16 to 20        1548   \n",
       "2            1  1800000  1302       Strata    26 to 30        1382   \n",
       "3            1  1270000   883       Strata    01 to 05        1439   \n",
       "4            1  1595000  1195       Strata    11 to 15        1335   \n",
       "\n",
       "  date_of_sale  \n",
       "0       May-21  \n",
       "1       May-21  \n",
       "2       May-21  \n",
       "3       May-21  \n",
       "4       May-21  "
      ]
     },
     "execution_count": 20,
     "metadata": {},
     "output_type": "execute_result"
    }
   ],
   "source": [
    "# change name of columns\n",
    "df1.rename(columns= {'Project Name':'project_name',\n",
    "                     'Street Name':'street_name',\n",
    "                     'Type':'type',\n",
    "                     'Postal District':'postal_district',\n",
    "                     'Market Segment':'market_segment',\n",
    "                     'Tenure':'tenure',\n",
    "                     'Type of Sale':'type_of_sale',\n",
    "                     'No. of Units':'no_of_units', \n",
    "                     'Price ($)':'price',\n",
    "                     'Nett Price ($)':'nett_price',\n",
    "                     'Area (Sqft)':'area',\n",
    "                     'Type of Area':'type_of_area',\n",
    "                     'Floor Level':'floor_level',\n",
    "                     'Unit Price ($psf)':'unit_price',\n",
    "                     'Date of Sale':'date_of_sale'}, inplace=True)\n",
    "df1.head()"
   ]
  },
  {
   "cell_type": "markdown",
   "metadata": {},
   "source": [
    "### Extract number of lease and year from tenure"
   ]
  },
  {
   "cell_type": "code",
   "execution_count": 21,
   "metadata": {},
   "outputs": [
    {
     "data": {
      "text/html": [
       "<div>\n",
       "<style scoped>\n",
       "    .dataframe tbody tr th:only-of-type {\n",
       "        vertical-align: middle;\n",
       "    }\n",
       "\n",
       "    .dataframe tbody tr th {\n",
       "        vertical-align: top;\n",
       "    }\n",
       "\n",
       "    .dataframe thead th {\n",
       "        text-align: right;\n",
       "    }\n",
       "</style>\n",
       "<table border=\"1\" class=\"dataframe\">\n",
       "  <thead>\n",
       "    <tr style=\"text-align: right;\">\n",
       "      <th></th>\n",
       "      <th>project_name</th>\n",
       "      <th>street_name</th>\n",
       "      <th>type</th>\n",
       "      <th>postal_district</th>\n",
       "      <th>market_segment</th>\n",
       "      <th>type_of_sale</th>\n",
       "      <th>no_of_units</th>\n",
       "      <th>price</th>\n",
       "      <th>area</th>\n",
       "      <th>type_of_area</th>\n",
       "      <th>floor_level</th>\n",
       "      <th>unit_price</th>\n",
       "      <th>date_of_sale</th>\n",
       "      <th>lease</th>\n",
       "      <th>lease_commencement</th>\n",
       "    </tr>\n",
       "  </thead>\n",
       "  <tbody>\n",
       "    <tr>\n",
       "      <th>0</th>\n",
       "      <td>MARINA ONE RESIDENCES</td>\n",
       "      <td>MARINA WAY</td>\n",
       "      <td>Apartment</td>\n",
       "      <td>1</td>\n",
       "      <td>CCR</td>\n",
       "      <td>Resale</td>\n",
       "      <td>1</td>\n",
       "      <td>1691910</td>\n",
       "      <td>732</td>\n",
       "      <td>Strata</td>\n",
       "      <td>11 to 15</td>\n",
       "      <td>2312</td>\n",
       "      <td>May-21</td>\n",
       "      <td>99</td>\n",
       "      <td>2011</td>\n",
       "    </tr>\n",
       "    <tr>\n",
       "      <th>1</th>\n",
       "      <td>DOMAIN 21</td>\n",
       "      <td>DELTA ROAD</td>\n",
       "      <td>Condominium</td>\n",
       "      <td>3</td>\n",
       "      <td>RCR</td>\n",
       "      <td>Resale</td>\n",
       "      <td>1</td>\n",
       "      <td>1600000</td>\n",
       "      <td>1033</td>\n",
       "      <td>Strata</td>\n",
       "      <td>16 to 20</td>\n",
       "      <td>1548</td>\n",
       "      <td>May-21</td>\n",
       "      <td>99</td>\n",
       "      <td>2004</td>\n",
       "    </tr>\n",
       "    <tr>\n",
       "      <th>2</th>\n",
       "      <td>THE ROCHESTER RESIDENCES</td>\n",
       "      <td>ROCHESTER DRIVE</td>\n",
       "      <td>Apartment</td>\n",
       "      <td>5</td>\n",
       "      <td>RCR</td>\n",
       "      <td>Resale</td>\n",
       "      <td>1</td>\n",
       "      <td>1800000</td>\n",
       "      <td>1302</td>\n",
       "      <td>Strata</td>\n",
       "      <td>26 to 30</td>\n",
       "      <td>1382</td>\n",
       "      <td>May-21</td>\n",
       "      <td>99</td>\n",
       "      <td>2005</td>\n",
       "    </tr>\n",
       "    <tr>\n",
       "      <th>3</th>\n",
       "      <td>CARABELLE</td>\n",
       "      <td>WEST COAST WAY</td>\n",
       "      <td>Condominium</td>\n",
       "      <td>5</td>\n",
       "      <td>OCR</td>\n",
       "      <td>Resale</td>\n",
       "      <td>1</td>\n",
       "      <td>1270000</td>\n",
       "      <td>883</td>\n",
       "      <td>Strata</td>\n",
       "      <td>01 to 05</td>\n",
       "      <td>1439</td>\n",
       "      <td>May-21</td>\n",
       "      <td>956</td>\n",
       "      <td>1928</td>\n",
       "    </tr>\n",
       "    <tr>\n",
       "      <th>4</th>\n",
       "      <td>QUEENS</td>\n",
       "      <td>STIRLING ROAD</td>\n",
       "      <td>Condominium</td>\n",
       "      <td>3</td>\n",
       "      <td>RCR</td>\n",
       "      <td>Resale</td>\n",
       "      <td>1</td>\n",
       "      <td>1595000</td>\n",
       "      <td>1195</td>\n",
       "      <td>Strata</td>\n",
       "      <td>11 to 15</td>\n",
       "      <td>1335</td>\n",
       "      <td>May-21</td>\n",
       "      <td>99</td>\n",
       "      <td>1998</td>\n",
       "    </tr>\n",
       "    <tr>\n",
       "      <th>...</th>\n",
       "      <td>...</td>\n",
       "      <td>...</td>\n",
       "      <td>...</td>\n",
       "      <td>...</td>\n",
       "      <td>...</td>\n",
       "      <td>...</td>\n",
       "      <td>...</td>\n",
       "      <td>...</td>\n",
       "      <td>...</td>\n",
       "      <td>...</td>\n",
       "      <td>...</td>\n",
       "      <td>...</td>\n",
       "      <td>...</td>\n",
       "      <td>...</td>\n",
       "      <td>...</td>\n",
       "    </tr>\n",
       "    <tr>\n",
       "      <th>49201</th>\n",
       "      <td>EIGHT COURTYARDS</td>\n",
       "      <td>CANBERRA DRIVE</td>\n",
       "      <td>Condominium</td>\n",
       "      <td>27</td>\n",
       "      <td>OCR</td>\n",
       "      <td>Resale</td>\n",
       "      <td>1</td>\n",
       "      <td>1015000</td>\n",
       "      <td>1087</td>\n",
       "      <td>Strata</td>\n",
       "      <td>01 to 05</td>\n",
       "      <td>934</td>\n",
       "      <td>May-16</td>\n",
       "      <td>99</td>\n",
       "      <td>2010</td>\n",
       "    </tr>\n",
       "    <tr>\n",
       "      <th>49202</th>\n",
       "      <td>EUPHONY GARDENS</td>\n",
       "      <td>JALAN MATA AYER</td>\n",
       "      <td>Condominium</td>\n",
       "      <td>27</td>\n",
       "      <td>OCR</td>\n",
       "      <td>Resale</td>\n",
       "      <td>1</td>\n",
       "      <td>1000000</td>\n",
       "      <td>1453</td>\n",
       "      <td>Strata</td>\n",
       "      <td>01 to 05</td>\n",
       "      <td>688</td>\n",
       "      <td>May-16</td>\n",
       "      <td>99</td>\n",
       "      <td>1998</td>\n",
       "    </tr>\n",
       "    <tr>\n",
       "      <th>49203</th>\n",
       "      <td>SERENITY PARK</td>\n",
       "      <td>TAMARIND ROAD</td>\n",
       "      <td>Condominium</td>\n",
       "      <td>28</td>\n",
       "      <td>OCR</td>\n",
       "      <td>Resale</td>\n",
       "      <td>1</td>\n",
       "      <td>1030000</td>\n",
       "      <td>1324</td>\n",
       "      <td>Strata</td>\n",
       "      <td>01 to 05</td>\n",
       "      <td>778</td>\n",
       "      <td>May-16</td>\n",
       "      <td></td>\n",
       "      <td>None</td>\n",
       "    </tr>\n",
       "    <tr>\n",
       "      <th>49204</th>\n",
       "      <td>THE MILTONIA RESIDENCES</td>\n",
       "      <td>MILTONIA CLOSE</td>\n",
       "      <td>Condominium</td>\n",
       "      <td>27</td>\n",
       "      <td>OCR</td>\n",
       "      <td>Resale</td>\n",
       "      <td>1</td>\n",
       "      <td>1530000</td>\n",
       "      <td>2077</td>\n",
       "      <td>Strata</td>\n",
       "      <td>01 to 05</td>\n",
       "      <td>736</td>\n",
       "      <td>May-16</td>\n",
       "      <td>99</td>\n",
       "      <td>2010</td>\n",
       "    </tr>\n",
       "    <tr>\n",
       "      <th>49205</th>\n",
       "      <td>SELETAR PARK RESIDENCE</td>\n",
       "      <td>SELETAR ROAD</td>\n",
       "      <td>Condominium</td>\n",
       "      <td>28</td>\n",
       "      <td>OCR</td>\n",
       "      <td>Resale</td>\n",
       "      <td>1</td>\n",
       "      <td>1700000</td>\n",
       "      <td>1378</td>\n",
       "      <td>Strata</td>\n",
       "      <td>01 to 05</td>\n",
       "      <td>1234</td>\n",
       "      <td>May-16</td>\n",
       "      <td>99</td>\n",
       "      <td>2011</td>\n",
       "    </tr>\n",
       "  </tbody>\n",
       "</table>\n",
       "<p>48850 rows × 15 columns</p>\n",
       "</div>"
      ],
      "text/plain": [
       "                   project_name      street_name         type  \\\n",
       "0         MARINA ONE RESIDENCES       MARINA WAY    Apartment   \n",
       "1                     DOMAIN 21       DELTA ROAD  Condominium   \n",
       "2      THE ROCHESTER RESIDENCES  ROCHESTER DRIVE    Apartment   \n",
       "3                     CARABELLE   WEST COAST WAY  Condominium   \n",
       "4                        QUEENS    STIRLING ROAD  Condominium   \n",
       "...                         ...              ...          ...   \n",
       "49201          EIGHT COURTYARDS   CANBERRA DRIVE  Condominium   \n",
       "49202           EUPHONY GARDENS  JALAN MATA AYER  Condominium   \n",
       "49203             SERENITY PARK    TAMARIND ROAD  Condominium   \n",
       "49204   THE MILTONIA RESIDENCES   MILTONIA CLOSE  Condominium   \n",
       "49205    SELETAR PARK RESIDENCE     SELETAR ROAD  Condominium   \n",
       "\n",
       "       postal_district market_segment type_of_sale  no_of_units    price  \\\n",
       "0                    1            CCR       Resale            1  1691910   \n",
       "1                    3            RCR       Resale            1  1600000   \n",
       "2                    5            RCR       Resale            1  1800000   \n",
       "3                    5            OCR       Resale            1  1270000   \n",
       "4                    3            RCR       Resale            1  1595000   \n",
       "...                ...            ...          ...          ...      ...   \n",
       "49201               27            OCR       Resale            1  1015000   \n",
       "49202               27            OCR       Resale            1  1000000   \n",
       "49203               28            OCR       Resale            1  1030000   \n",
       "49204               27            OCR       Resale            1  1530000   \n",
       "49205               28            OCR       Resale            1  1700000   \n",
       "\n",
       "       area type_of_area floor_level  unit_price date_of_sale lease  \\\n",
       "0       732       Strata    11 to 15        2312       May-21    99   \n",
       "1      1033       Strata    16 to 20        1548       May-21    99   \n",
       "2      1302       Strata    26 to 30        1382       May-21    99   \n",
       "3       883       Strata    01 to 05        1439       May-21   956   \n",
       "4      1195       Strata    11 to 15        1335       May-21    99   \n",
       "...     ...          ...         ...         ...          ...   ...   \n",
       "49201  1087       Strata    01 to 05         934       May-16    99   \n",
       "49202  1453       Strata    01 to 05         688       May-16    99   \n",
       "49203  1324       Strata    01 to 05         778       May-16         \n",
       "49204  2077       Strata    01 to 05         736       May-16    99   \n",
       "49205  1378       Strata    01 to 05        1234       May-16    99   \n",
       "\n",
       "      lease_commencement  \n",
       "0                   2011  \n",
       "1                   2004  \n",
       "2                   2005  \n",
       "3                   1928  \n",
       "4                   1998  \n",
       "...                  ...  \n",
       "49201               2010  \n",
       "49202               1998  \n",
       "49203               None  \n",
       "49204               2010  \n",
       "49205               2011  \n",
       "\n",
       "[48850 rows x 15 columns]"
      ]
     },
     "execution_count": 21,
     "metadata": {},
     "output_type": "execute_result"
    }
   ],
   "source": [
    "# extract numbers and join them in a string\n",
    "def find_number(text):\n",
    "    num = re.findall(r'[0-9]+',text)\n",
    "    return \" \".join(num)\n",
    "\n",
    "df1['tenure']=df1['tenure'].apply(str)\n",
    "df1['number']=df1['tenure'].apply(lambda x: find_number(x))\n",
    "# split a string column\n",
    "df1[['lease','lease_commencement']]=df1['number'].str.split(' ',expand=True)\n",
    "# # drop column \n",
    "df1.drop(columns=['tenure','number'], inplace=True) \n",
    "df1"
   ]
  },
  {
   "cell_type": "markdown",
   "metadata": {},
   "source": [
    "### Replace empty values in lease and lease commencement with 0"
   ]
  },
  {
   "cell_type": "code",
   "execution_count": 22,
   "metadata": {},
   "outputs": [
    {
     "data": {
      "text/html": [
       "<div>\n",
       "<style scoped>\n",
       "    .dataframe tbody tr th:only-of-type {\n",
       "        vertical-align: middle;\n",
       "    }\n",
       "\n",
       "    .dataframe tbody tr th {\n",
       "        vertical-align: top;\n",
       "    }\n",
       "\n",
       "    .dataframe thead th {\n",
       "        text-align: right;\n",
       "    }\n",
       "</style>\n",
       "<table border=\"1\" class=\"dataframe\">\n",
       "  <thead>\n",
       "    <tr style=\"text-align: right;\">\n",
       "      <th></th>\n",
       "      <th>project_name</th>\n",
       "      <th>street_name</th>\n",
       "      <th>type</th>\n",
       "      <th>postal_district</th>\n",
       "      <th>market_segment</th>\n",
       "      <th>type_of_sale</th>\n",
       "      <th>no_of_units</th>\n",
       "      <th>price</th>\n",
       "      <th>area</th>\n",
       "      <th>type_of_area</th>\n",
       "      <th>floor_level</th>\n",
       "      <th>unit_price</th>\n",
       "      <th>date_of_sale</th>\n",
       "      <th>lease</th>\n",
       "      <th>lease_commencement</th>\n",
       "    </tr>\n",
       "  </thead>\n",
       "  <tbody>\n",
       "    <tr>\n",
       "      <th>0</th>\n",
       "      <td>MARINA ONE RESIDENCES</td>\n",
       "      <td>MARINA WAY</td>\n",
       "      <td>Apartment</td>\n",
       "      <td>1</td>\n",
       "      <td>CCR</td>\n",
       "      <td>Resale</td>\n",
       "      <td>1</td>\n",
       "      <td>1691910</td>\n",
       "      <td>732</td>\n",
       "      <td>Strata</td>\n",
       "      <td>11 to 15</td>\n",
       "      <td>2312</td>\n",
       "      <td>May-21</td>\n",
       "      <td>99</td>\n",
       "      <td>2011</td>\n",
       "    </tr>\n",
       "    <tr>\n",
       "      <th>1</th>\n",
       "      <td>DOMAIN 21</td>\n",
       "      <td>DELTA ROAD</td>\n",
       "      <td>Condominium</td>\n",
       "      <td>3</td>\n",
       "      <td>RCR</td>\n",
       "      <td>Resale</td>\n",
       "      <td>1</td>\n",
       "      <td>1600000</td>\n",
       "      <td>1033</td>\n",
       "      <td>Strata</td>\n",
       "      <td>16 to 20</td>\n",
       "      <td>1548</td>\n",
       "      <td>May-21</td>\n",
       "      <td>99</td>\n",
       "      <td>2004</td>\n",
       "    </tr>\n",
       "    <tr>\n",
       "      <th>2</th>\n",
       "      <td>THE ROCHESTER RESIDENCES</td>\n",
       "      <td>ROCHESTER DRIVE</td>\n",
       "      <td>Apartment</td>\n",
       "      <td>5</td>\n",
       "      <td>RCR</td>\n",
       "      <td>Resale</td>\n",
       "      <td>1</td>\n",
       "      <td>1800000</td>\n",
       "      <td>1302</td>\n",
       "      <td>Strata</td>\n",
       "      <td>26 to 30</td>\n",
       "      <td>1382</td>\n",
       "      <td>May-21</td>\n",
       "      <td>99</td>\n",
       "      <td>2005</td>\n",
       "    </tr>\n",
       "    <tr>\n",
       "      <th>3</th>\n",
       "      <td>CARABELLE</td>\n",
       "      <td>WEST COAST WAY</td>\n",
       "      <td>Condominium</td>\n",
       "      <td>5</td>\n",
       "      <td>OCR</td>\n",
       "      <td>Resale</td>\n",
       "      <td>1</td>\n",
       "      <td>1270000</td>\n",
       "      <td>883</td>\n",
       "      <td>Strata</td>\n",
       "      <td>01 to 05</td>\n",
       "      <td>1439</td>\n",
       "      <td>May-21</td>\n",
       "      <td>956</td>\n",
       "      <td>1928</td>\n",
       "    </tr>\n",
       "    <tr>\n",
       "      <th>4</th>\n",
       "      <td>QUEENS</td>\n",
       "      <td>STIRLING ROAD</td>\n",
       "      <td>Condominium</td>\n",
       "      <td>3</td>\n",
       "      <td>RCR</td>\n",
       "      <td>Resale</td>\n",
       "      <td>1</td>\n",
       "      <td>1595000</td>\n",
       "      <td>1195</td>\n",
       "      <td>Strata</td>\n",
       "      <td>11 to 15</td>\n",
       "      <td>1335</td>\n",
       "      <td>May-21</td>\n",
       "      <td>99</td>\n",
       "      <td>1998</td>\n",
       "    </tr>\n",
       "    <tr>\n",
       "      <th>...</th>\n",
       "      <td>...</td>\n",
       "      <td>...</td>\n",
       "      <td>...</td>\n",
       "      <td>...</td>\n",
       "      <td>...</td>\n",
       "      <td>...</td>\n",
       "      <td>...</td>\n",
       "      <td>...</td>\n",
       "      <td>...</td>\n",
       "      <td>...</td>\n",
       "      <td>...</td>\n",
       "      <td>...</td>\n",
       "      <td>...</td>\n",
       "      <td>...</td>\n",
       "      <td>...</td>\n",
       "    </tr>\n",
       "    <tr>\n",
       "      <th>49201</th>\n",
       "      <td>EIGHT COURTYARDS</td>\n",
       "      <td>CANBERRA DRIVE</td>\n",
       "      <td>Condominium</td>\n",
       "      <td>27</td>\n",
       "      <td>OCR</td>\n",
       "      <td>Resale</td>\n",
       "      <td>1</td>\n",
       "      <td>1015000</td>\n",
       "      <td>1087</td>\n",
       "      <td>Strata</td>\n",
       "      <td>01 to 05</td>\n",
       "      <td>934</td>\n",
       "      <td>May-16</td>\n",
       "      <td>99</td>\n",
       "      <td>2010</td>\n",
       "    </tr>\n",
       "    <tr>\n",
       "      <th>49202</th>\n",
       "      <td>EUPHONY GARDENS</td>\n",
       "      <td>JALAN MATA AYER</td>\n",
       "      <td>Condominium</td>\n",
       "      <td>27</td>\n",
       "      <td>OCR</td>\n",
       "      <td>Resale</td>\n",
       "      <td>1</td>\n",
       "      <td>1000000</td>\n",
       "      <td>1453</td>\n",
       "      <td>Strata</td>\n",
       "      <td>01 to 05</td>\n",
       "      <td>688</td>\n",
       "      <td>May-16</td>\n",
       "      <td>99</td>\n",
       "      <td>1998</td>\n",
       "    </tr>\n",
       "    <tr>\n",
       "      <th>49203</th>\n",
       "      <td>SERENITY PARK</td>\n",
       "      <td>TAMARIND ROAD</td>\n",
       "      <td>Condominium</td>\n",
       "      <td>28</td>\n",
       "      <td>OCR</td>\n",
       "      <td>Resale</td>\n",
       "      <td>1</td>\n",
       "      <td>1030000</td>\n",
       "      <td>1324</td>\n",
       "      <td>Strata</td>\n",
       "      <td>01 to 05</td>\n",
       "      <td>778</td>\n",
       "      <td>May-16</td>\n",
       "      <td>0</td>\n",
       "      <td>0</td>\n",
       "    </tr>\n",
       "    <tr>\n",
       "      <th>49204</th>\n",
       "      <td>THE MILTONIA RESIDENCES</td>\n",
       "      <td>MILTONIA CLOSE</td>\n",
       "      <td>Condominium</td>\n",
       "      <td>27</td>\n",
       "      <td>OCR</td>\n",
       "      <td>Resale</td>\n",
       "      <td>1</td>\n",
       "      <td>1530000</td>\n",
       "      <td>2077</td>\n",
       "      <td>Strata</td>\n",
       "      <td>01 to 05</td>\n",
       "      <td>736</td>\n",
       "      <td>May-16</td>\n",
       "      <td>99</td>\n",
       "      <td>2010</td>\n",
       "    </tr>\n",
       "    <tr>\n",
       "      <th>49205</th>\n",
       "      <td>SELETAR PARK RESIDENCE</td>\n",
       "      <td>SELETAR ROAD</td>\n",
       "      <td>Condominium</td>\n",
       "      <td>28</td>\n",
       "      <td>OCR</td>\n",
       "      <td>Resale</td>\n",
       "      <td>1</td>\n",
       "      <td>1700000</td>\n",
       "      <td>1378</td>\n",
       "      <td>Strata</td>\n",
       "      <td>01 to 05</td>\n",
       "      <td>1234</td>\n",
       "      <td>May-16</td>\n",
       "      <td>99</td>\n",
       "      <td>2011</td>\n",
       "    </tr>\n",
       "  </tbody>\n",
       "</table>\n",
       "<p>48850 rows × 15 columns</p>\n",
       "</div>"
      ],
      "text/plain": [
       "                   project_name      street_name         type  \\\n",
       "0         MARINA ONE RESIDENCES       MARINA WAY    Apartment   \n",
       "1                     DOMAIN 21       DELTA ROAD  Condominium   \n",
       "2      THE ROCHESTER RESIDENCES  ROCHESTER DRIVE    Apartment   \n",
       "3                     CARABELLE   WEST COAST WAY  Condominium   \n",
       "4                        QUEENS    STIRLING ROAD  Condominium   \n",
       "...                         ...              ...          ...   \n",
       "49201          EIGHT COURTYARDS   CANBERRA DRIVE  Condominium   \n",
       "49202           EUPHONY GARDENS  JALAN MATA AYER  Condominium   \n",
       "49203             SERENITY PARK    TAMARIND ROAD  Condominium   \n",
       "49204   THE MILTONIA RESIDENCES   MILTONIA CLOSE  Condominium   \n",
       "49205    SELETAR PARK RESIDENCE     SELETAR ROAD  Condominium   \n",
       "\n",
       "       postal_district market_segment type_of_sale  no_of_units    price  \\\n",
       "0                    1            CCR       Resale            1  1691910   \n",
       "1                    3            RCR       Resale            1  1600000   \n",
       "2                    5            RCR       Resale            1  1800000   \n",
       "3                    5            OCR       Resale            1  1270000   \n",
       "4                    3            RCR       Resale            1  1595000   \n",
       "...                ...            ...          ...          ...      ...   \n",
       "49201               27            OCR       Resale            1  1015000   \n",
       "49202               27            OCR       Resale            1  1000000   \n",
       "49203               28            OCR       Resale            1  1030000   \n",
       "49204               27            OCR       Resale            1  1530000   \n",
       "49205               28            OCR       Resale            1  1700000   \n",
       "\n",
       "       area type_of_area floor_level  unit_price date_of_sale lease  \\\n",
       "0       732       Strata    11 to 15        2312       May-21    99   \n",
       "1      1033       Strata    16 to 20        1548       May-21    99   \n",
       "2      1302       Strata    26 to 30        1382       May-21    99   \n",
       "3       883       Strata    01 to 05        1439       May-21   956   \n",
       "4      1195       Strata    11 to 15        1335       May-21    99   \n",
       "...     ...          ...         ...         ...          ...   ...   \n",
       "49201  1087       Strata    01 to 05         934       May-16    99   \n",
       "49202  1453       Strata    01 to 05         688       May-16    99   \n",
       "49203  1324       Strata    01 to 05         778       May-16     0   \n",
       "49204  2077       Strata    01 to 05         736       May-16    99   \n",
       "49205  1378       Strata    01 to 05        1234       May-16    99   \n",
       "\n",
       "      lease_commencement  \n",
       "0                   2011  \n",
       "1                   2004  \n",
       "2                   2005  \n",
       "3                   1928  \n",
       "4                   1998  \n",
       "...                  ...  \n",
       "49201               2010  \n",
       "49202               1998  \n",
       "49203                  0  \n",
       "49204               2010  \n",
       "49205               2011  \n",
       "\n",
       "[48850 rows x 15 columns]"
      ]
     },
     "execution_count": 22,
     "metadata": {},
     "output_type": "execute_result"
    }
   ],
   "source": [
    "# replace empty strings with NaN\n",
    "df1 = df1.replace(r'^\\s*$', np.NaN, regex=True)\n",
    "# fill missing values with specific values\n",
    "# freehold: lease 0, lease commemcement 0\n",
    "df1 = df1.fillna({'lease':0, 'lease_commencement':0})\n",
    "df1"
   ]
  },
  {
   "cell_type": "markdown",
   "metadata": {},
   "source": [
    "### Split date of sale to get month and year"
   ]
  },
  {
   "cell_type": "code",
   "execution_count": 23,
   "metadata": {},
   "outputs": [
    {
     "data": {
      "text/html": [
       "<div>\n",
       "<style scoped>\n",
       "    .dataframe tbody tr th:only-of-type {\n",
       "        vertical-align: middle;\n",
       "    }\n",
       "\n",
       "    .dataframe tbody tr th {\n",
       "        vertical-align: top;\n",
       "    }\n",
       "\n",
       "    .dataframe thead th {\n",
       "        text-align: right;\n",
       "    }\n",
       "</style>\n",
       "<table border=\"1\" class=\"dataframe\">\n",
       "  <thead>\n",
       "    <tr style=\"text-align: right;\">\n",
       "      <th></th>\n",
       "      <th>project_name</th>\n",
       "      <th>street_name</th>\n",
       "      <th>type</th>\n",
       "      <th>postal_district</th>\n",
       "      <th>market_segment</th>\n",
       "      <th>type_of_sale</th>\n",
       "      <th>no_of_units</th>\n",
       "      <th>price</th>\n",
       "      <th>area</th>\n",
       "      <th>type_of_area</th>\n",
       "      <th>floor_level</th>\n",
       "      <th>unit_price</th>\n",
       "      <th>lease</th>\n",
       "      <th>lease_commencement</th>\n",
       "      <th>month</th>\n",
       "      <th>year</th>\n",
       "    </tr>\n",
       "  </thead>\n",
       "  <tbody>\n",
       "    <tr>\n",
       "      <th>0</th>\n",
       "      <td>MARINA ONE RESIDENCES</td>\n",
       "      <td>MARINA WAY</td>\n",
       "      <td>Apartment</td>\n",
       "      <td>1</td>\n",
       "      <td>CCR</td>\n",
       "      <td>Resale</td>\n",
       "      <td>1</td>\n",
       "      <td>1691910</td>\n",
       "      <td>732</td>\n",
       "      <td>Strata</td>\n",
       "      <td>11 to 15</td>\n",
       "      <td>2312</td>\n",
       "      <td>99</td>\n",
       "      <td>2011</td>\n",
       "      <td>May</td>\n",
       "      <td>21</td>\n",
       "    </tr>\n",
       "    <tr>\n",
       "      <th>1</th>\n",
       "      <td>DOMAIN 21</td>\n",
       "      <td>DELTA ROAD</td>\n",
       "      <td>Condominium</td>\n",
       "      <td>3</td>\n",
       "      <td>RCR</td>\n",
       "      <td>Resale</td>\n",
       "      <td>1</td>\n",
       "      <td>1600000</td>\n",
       "      <td>1033</td>\n",
       "      <td>Strata</td>\n",
       "      <td>16 to 20</td>\n",
       "      <td>1548</td>\n",
       "      <td>99</td>\n",
       "      <td>2004</td>\n",
       "      <td>May</td>\n",
       "      <td>21</td>\n",
       "    </tr>\n",
       "    <tr>\n",
       "      <th>2</th>\n",
       "      <td>THE ROCHESTER RESIDENCES</td>\n",
       "      <td>ROCHESTER DRIVE</td>\n",
       "      <td>Apartment</td>\n",
       "      <td>5</td>\n",
       "      <td>RCR</td>\n",
       "      <td>Resale</td>\n",
       "      <td>1</td>\n",
       "      <td>1800000</td>\n",
       "      <td>1302</td>\n",
       "      <td>Strata</td>\n",
       "      <td>26 to 30</td>\n",
       "      <td>1382</td>\n",
       "      <td>99</td>\n",
       "      <td>2005</td>\n",
       "      <td>May</td>\n",
       "      <td>21</td>\n",
       "    </tr>\n",
       "    <tr>\n",
       "      <th>3</th>\n",
       "      <td>CARABELLE</td>\n",
       "      <td>WEST COAST WAY</td>\n",
       "      <td>Condominium</td>\n",
       "      <td>5</td>\n",
       "      <td>OCR</td>\n",
       "      <td>Resale</td>\n",
       "      <td>1</td>\n",
       "      <td>1270000</td>\n",
       "      <td>883</td>\n",
       "      <td>Strata</td>\n",
       "      <td>01 to 05</td>\n",
       "      <td>1439</td>\n",
       "      <td>956</td>\n",
       "      <td>1928</td>\n",
       "      <td>May</td>\n",
       "      <td>21</td>\n",
       "    </tr>\n",
       "    <tr>\n",
       "      <th>4</th>\n",
       "      <td>QUEENS</td>\n",
       "      <td>STIRLING ROAD</td>\n",
       "      <td>Condominium</td>\n",
       "      <td>3</td>\n",
       "      <td>RCR</td>\n",
       "      <td>Resale</td>\n",
       "      <td>1</td>\n",
       "      <td>1595000</td>\n",
       "      <td>1195</td>\n",
       "      <td>Strata</td>\n",
       "      <td>11 to 15</td>\n",
       "      <td>1335</td>\n",
       "      <td>99</td>\n",
       "      <td>1998</td>\n",
       "      <td>May</td>\n",
       "      <td>21</td>\n",
       "    </tr>\n",
       "  </tbody>\n",
       "</table>\n",
       "</div>"
      ],
      "text/plain": [
       "               project_name      street_name         type  postal_district  \\\n",
       "0     MARINA ONE RESIDENCES       MARINA WAY    Apartment                1   \n",
       "1                 DOMAIN 21       DELTA ROAD  Condominium                3   \n",
       "2  THE ROCHESTER RESIDENCES  ROCHESTER DRIVE    Apartment                5   \n",
       "3                 CARABELLE   WEST COAST WAY  Condominium                5   \n",
       "4                    QUEENS    STIRLING ROAD  Condominium                3   \n",
       "\n",
       "  market_segment type_of_sale  no_of_units    price  area type_of_area  \\\n",
       "0            CCR       Resale            1  1691910   732       Strata   \n",
       "1            RCR       Resale            1  1600000  1033       Strata   \n",
       "2            RCR       Resale            1  1800000  1302       Strata   \n",
       "3            OCR       Resale            1  1270000   883       Strata   \n",
       "4            RCR       Resale            1  1595000  1195       Strata   \n",
       "\n",
       "  floor_level  unit_price lease lease_commencement month year  \n",
       "0    11 to 15        2312    99               2011   May   21  \n",
       "1    16 to 20        1548    99               2004   May   21  \n",
       "2    26 to 30        1382    99               2005   May   21  \n",
       "3    01 to 05        1439   956               1928   May   21  \n",
       "4    11 to 15        1335    99               1998   May   21  "
      ]
     },
     "execution_count": 23,
     "metadata": {},
     "output_type": "execute_result"
    }
   ],
   "source": [
    "# split a string column\n",
    "df1[['month','year']]=df1['date_of_sale'].str.split('-',expand=True)\n",
    "# drop column\n",
    "df1.drop(columns=['date_of_sale'], inplace=True)\n",
    "df1.head()"
   ]
  },
  {
   "cell_type": "code",
   "execution_count": 24,
   "metadata": {},
   "outputs": [
    {
     "data": {
      "text/plain": [
       "project_name          object\n",
       "street_name           object\n",
       "type                  object\n",
       "postal_district        int64\n",
       "market_segment        object\n",
       "type_of_sale          object\n",
       "no_of_units            int64\n",
       "price                  int64\n",
       "area                   int64\n",
       "type_of_area          object\n",
       "floor_level           object\n",
       "unit_price             int64\n",
       "lease                 object\n",
       "lease_commencement    object\n",
       "month                 object\n",
       "year                  object\n",
       "dtype: object"
      ]
     },
     "execution_count": 24,
     "metadata": {},
     "output_type": "execute_result"
    }
   ],
   "source": [
    "# datatypes\n",
    "df1.dtypes"
   ]
  },
  {
   "cell_type": "code",
   "execution_count": 25,
   "metadata": {},
   "outputs": [
    {
     "data": {
      "text/plain": [
       "(48850, 16)"
      ]
     },
     "execution_count": 25,
     "metadata": {},
     "output_type": "execute_result"
    }
   ],
   "source": [
    "# dataframe.shape\n",
    "df1.shape"
   ]
  },
  {
   "cell_type": "markdown",
   "metadata": {},
   "source": [
    "### Change lease commencement and year to be integer"
   ]
  },
  {
   "cell_type": "code",
   "execution_count": 26,
   "metadata": {},
   "outputs": [
    {
     "data": {
      "text/plain": [
       "project_name          object\n",
       "street_name           object\n",
       "type                  object\n",
       "postal_district        int64\n",
       "market_segment        object\n",
       "type_of_sale          object\n",
       "no_of_units            int64\n",
       "price                  int64\n",
       "area                   int64\n",
       "type_of_area          object\n",
       "floor_level           object\n",
       "unit_price             int64\n",
       "lease                  int32\n",
       "lease_commencement     int32\n",
       "month                 object\n",
       "year                   int32\n",
       "dtype: object"
      ]
     },
     "execution_count": 26,
     "metadata": {},
     "output_type": "execute_result"
    }
   ],
   "source": [
    "# conversion of datatypes from object to integer\n",
    "df1['lease']=df1['lease'].astype(int)\n",
    "df1['lease_commencement']=df1['lease_commencement'].astype(int)\n",
    "df1['year']=df1['year'].astype(int)\n",
    "df1.dtypes"
   ]
  },
  {
   "cell_type": "markdown",
   "metadata": {},
   "source": [
    "### Create column for remaining lease"
   ]
  },
  {
   "cell_type": "code",
   "execution_count": 27,
   "metadata": {},
   "outputs": [
    {
     "data": {
      "text/html": [
       "<div>\n",
       "<style scoped>\n",
       "    .dataframe tbody tr th:only-of-type {\n",
       "        vertical-align: middle;\n",
       "    }\n",
       "\n",
       "    .dataframe tbody tr th {\n",
       "        vertical-align: top;\n",
       "    }\n",
       "\n",
       "    .dataframe thead th {\n",
       "        text-align: right;\n",
       "    }\n",
       "</style>\n",
       "<table border=\"1\" class=\"dataframe\">\n",
       "  <thead>\n",
       "    <tr style=\"text-align: right;\">\n",
       "      <th></th>\n",
       "      <th>project_name</th>\n",
       "      <th>street_name</th>\n",
       "      <th>type</th>\n",
       "      <th>postal_district</th>\n",
       "      <th>market_segment</th>\n",
       "      <th>type_of_sale</th>\n",
       "      <th>no_of_units</th>\n",
       "      <th>price</th>\n",
       "      <th>area</th>\n",
       "      <th>type_of_area</th>\n",
       "      <th>floor_level</th>\n",
       "      <th>unit_price</th>\n",
       "      <th>lease</th>\n",
       "      <th>lease_commencement</th>\n",
       "      <th>month</th>\n",
       "      <th>year</th>\n",
       "      <th>remaining_lease</th>\n",
       "    </tr>\n",
       "  </thead>\n",
       "  <tbody>\n",
       "    <tr>\n",
       "      <th>0</th>\n",
       "      <td>MARINA ONE RESIDENCES</td>\n",
       "      <td>MARINA WAY</td>\n",
       "      <td>Apartment</td>\n",
       "      <td>1</td>\n",
       "      <td>CCR</td>\n",
       "      <td>Resale</td>\n",
       "      <td>1</td>\n",
       "      <td>1691910</td>\n",
       "      <td>732</td>\n",
       "      <td>Strata</td>\n",
       "      <td>11 to 15</td>\n",
       "      <td>2312</td>\n",
       "      <td>99</td>\n",
       "      <td>2011</td>\n",
       "      <td>May</td>\n",
       "      <td>21</td>\n",
       "      <td>89</td>\n",
       "    </tr>\n",
       "    <tr>\n",
       "      <th>1</th>\n",
       "      <td>DOMAIN 21</td>\n",
       "      <td>DELTA ROAD</td>\n",
       "      <td>Condominium</td>\n",
       "      <td>3</td>\n",
       "      <td>RCR</td>\n",
       "      <td>Resale</td>\n",
       "      <td>1</td>\n",
       "      <td>1600000</td>\n",
       "      <td>1033</td>\n",
       "      <td>Strata</td>\n",
       "      <td>16 to 20</td>\n",
       "      <td>1548</td>\n",
       "      <td>99</td>\n",
       "      <td>2004</td>\n",
       "      <td>May</td>\n",
       "      <td>21</td>\n",
       "      <td>82</td>\n",
       "    </tr>\n",
       "    <tr>\n",
       "      <th>2</th>\n",
       "      <td>THE ROCHESTER RESIDENCES</td>\n",
       "      <td>ROCHESTER DRIVE</td>\n",
       "      <td>Apartment</td>\n",
       "      <td>5</td>\n",
       "      <td>RCR</td>\n",
       "      <td>Resale</td>\n",
       "      <td>1</td>\n",
       "      <td>1800000</td>\n",
       "      <td>1302</td>\n",
       "      <td>Strata</td>\n",
       "      <td>26 to 30</td>\n",
       "      <td>1382</td>\n",
       "      <td>99</td>\n",
       "      <td>2005</td>\n",
       "      <td>May</td>\n",
       "      <td>21</td>\n",
       "      <td>83</td>\n",
       "    </tr>\n",
       "    <tr>\n",
       "      <th>3</th>\n",
       "      <td>CARABELLE</td>\n",
       "      <td>WEST COAST WAY</td>\n",
       "      <td>Condominium</td>\n",
       "      <td>5</td>\n",
       "      <td>OCR</td>\n",
       "      <td>Resale</td>\n",
       "      <td>1</td>\n",
       "      <td>1270000</td>\n",
       "      <td>883</td>\n",
       "      <td>Strata</td>\n",
       "      <td>01 to 05</td>\n",
       "      <td>1439</td>\n",
       "      <td>956</td>\n",
       "      <td>1928</td>\n",
       "      <td>May</td>\n",
       "      <td>21</td>\n",
       "      <td>863</td>\n",
       "    </tr>\n",
       "    <tr>\n",
       "      <th>4</th>\n",
       "      <td>QUEENS</td>\n",
       "      <td>STIRLING ROAD</td>\n",
       "      <td>Condominium</td>\n",
       "      <td>3</td>\n",
       "      <td>RCR</td>\n",
       "      <td>Resale</td>\n",
       "      <td>1</td>\n",
       "      <td>1595000</td>\n",
       "      <td>1195</td>\n",
       "      <td>Strata</td>\n",
       "      <td>11 to 15</td>\n",
       "      <td>1335</td>\n",
       "      <td>99</td>\n",
       "      <td>1998</td>\n",
       "      <td>May</td>\n",
       "      <td>21</td>\n",
       "      <td>76</td>\n",
       "    </tr>\n",
       "  </tbody>\n",
       "</table>\n",
       "</div>"
      ],
      "text/plain": [
       "               project_name      street_name         type  postal_district  \\\n",
       "0     MARINA ONE RESIDENCES       MARINA WAY    Apartment                1   \n",
       "1                 DOMAIN 21       DELTA ROAD  Condominium                3   \n",
       "2  THE ROCHESTER RESIDENCES  ROCHESTER DRIVE    Apartment                5   \n",
       "3                 CARABELLE   WEST COAST WAY  Condominium                5   \n",
       "4                    QUEENS    STIRLING ROAD  Condominium                3   \n",
       "\n",
       "  market_segment type_of_sale  no_of_units    price  area type_of_area  \\\n",
       "0            CCR       Resale            1  1691910   732       Strata   \n",
       "1            RCR       Resale            1  1600000  1033       Strata   \n",
       "2            RCR       Resale            1  1800000  1302       Strata   \n",
       "3            OCR       Resale            1  1270000   883       Strata   \n",
       "4            RCR       Resale            1  1595000  1195       Strata   \n",
       "\n",
       "  floor_level  unit_price  lease  lease_commencement month  year  \\\n",
       "0    11 to 15        2312     99                2011   May    21   \n",
       "1    16 to 20        1548     99                2004   May    21   \n",
       "2    26 to 30        1382     99                2005   May    21   \n",
       "3    01 to 05        1439    956                1928   May    21   \n",
       "4    11 to 15        1335     99                1998   May    21   \n",
       "\n",
       "   remaining_lease  \n",
       "0               89  \n",
       "1               82  \n",
       "2               83  \n",
       "3              863  \n",
       "4               76  "
      ]
     },
     "execution_count": 27,
     "metadata": {},
     "output_type": "execute_result"
    }
   ],
   "source": [
    "# create column for remaining lease\n",
    "df1['remaining_lease'] = df1['lease_commencement'] + df1['lease'] - 2021 \n",
    "df1.head()"
   ]
  },
  {
   "cell_type": "markdown",
   "metadata": {},
   "source": [
    "### Descriptive Statistics on Resale Price"
   ]
  },
  {
   "cell_type": "code",
   "execution_count": 28,
   "metadata": {},
   "outputs": [
    {
     "data": {
      "text/plain": [
       "count    4.885000e+04\n",
       "mean     2.090048e+06\n",
       "std      1.394925e+07\n",
       "min      4.000000e+05\n",
       "25%      9.850000e+05\n",
       "50%      1.330000e+06\n",
       "75%      1.860000e+06\n",
       "max      9.800000e+08\n",
       "Name: price, dtype: float64"
      ]
     },
     "execution_count": 28,
     "metadata": {},
     "output_type": "execute_result"
    }
   ],
   "source": [
    "# generate descriptive statistics based on resale price\n",
    "df1['price'].describe()"
   ]
  },
  {
   "cell_type": "code",
   "execution_count": 29,
   "metadata": {},
   "outputs": [
    {
     "data": {
      "image/png": "[encoded data removed]",
      "text/plain": [
       "<Figure size 720x432 with 1 Axes>"
      ]
     },
     "metadata": {},
     "output_type": "display_data"
    }
   ],
   "source": [
    "#optionals: setting notebook theme, etc... for EDA\n",
    "plt.rcParams[\"figure.figsize\"] = [10,6]\n",
    "sns.set_style(\"darkgrid\")\n",
    "sns.set_context(\"notebook\", font_scale=1.5, rc={\"font.size\":16,\"axes.titlesize\":16,\"axes.labelsize\":16}) \n",
    "\n",
    "sns.distplot(df1['price'],fit=stats.norm,kde=False)\n",
    "#super imposed the normal curve to the histogram or distribution, \n",
    "#KDE curve is set to false cuz default is True.\n",
    "\n",
    "plt.title('Histogram distribution of Price of Property')\n",
    "plt.xlabel('Price of Property')\n",
    "plt.show()\n",
    "\n",
    "#positively skewed (right skewed)"
   ]
  },
  {
   "cell_type": "markdown",
   "metadata": {},
   "source": [
    "> We can see from the above that we cannot see the histogram because of the scale of the X axis. Hence we need to use Log scale / Boxcox to rescale the X axis"
   ]
  },
  {
   "cell_type": "markdown",
   "metadata": {},
   "source": [
    "### Apply Log to price"
   ]
  },
  {
   "cell_type": "code",
   "execution_count": 30,
   "metadata": {},
   "outputs": [],
   "source": [
    "# apply log to price\n",
    "df1['price_log'] = np.log(df1['price'])"
   ]
  },
  {
   "cell_type": "code",
   "execution_count": 31,
   "metadata": {},
   "outputs": [
    {
     "data": {
      "image/png": "[encoded data removed]",
      "text/plain": [
       "<Figure size 720x432 with 1 Axes>"
      ]
     },
     "metadata": {},
     "output_type": "display_data"
    }
   ],
   "source": [
    "#optionals: setting notebook theme, etc... for EDA\n",
    "plt.rcParams[\"figure.figsize\"] = [10,6]\n",
    "sns.set_style(\"darkgrid\")\n",
    "sns.set_context(\"notebook\", font_scale=1.5, rc={\"font.size\":16,\"axes.titlesize\":16,\"axes.labelsize\":16}) \n",
    "\n",
    "sns.distplot(df1['price_log'],fit=stats.norm,kde=False)\n",
    "#super imposed the normal curve to the histogram or distribution, \n",
    "#KDE curve is set to false cuz default is True.\n",
    "\n",
    "plt.title('Histogram distribution of Price of Property')\n",
    "plt.xlabel('Price of Property')\n",
    "plt.show()\n",
    "\n",
    "#positively skewed (right skewed)"
   ]
  },
  {
   "cell_type": "code",
   "execution_count": 32,
   "metadata": {},
   "outputs": [
    {
     "data": {
      "text/plain": [
       "1.761126225516022"
      ]
     },
     "execution_count": 32,
     "metadata": {},
     "output_type": "execute_result"
    }
   ],
   "source": [
    "# calculate skew of distribution \n",
    "# a positively skewed (or right-skewed) distribution\n",
    "df1['price_log'].skew()"
   ]
  },
  {
   "cell_type": "code",
   "execution_count": 33,
   "metadata": {},
   "outputs": [
    {
     "data": {
      "text/plain": [
       "9.589149986698189"
      ]
     },
     "execution_count": 33,
     "metadata": {},
     "output_type": "execute_result"
    }
   ],
   "source": [
    "# calculate kurtosis of distribution \n",
    "df1['price_log'].kurtosis()"
   ]
  },
  {
   "cell_type": "markdown",
   "metadata": {},
   "source": [
    "### Apply Boxcox to price"
   ]
  },
  {
   "cell_type": "code",
   "execution_count": 34,
   "metadata": {},
   "outputs": [],
   "source": [
    "# transform price data & save lambda value\n",
    "normalized_data, fitted_lambda = stats.boxcox(df1['price'])"
   ]
  },
  {
   "cell_type": "code",
   "execution_count": 35,
   "metadata": {},
   "outputs": [],
   "source": [
    "# use lambda value to transform price data\n",
    "df1['price_BX'] = stats.boxcox(df1['price'], fitted_lambda)"
   ]
  },
  {
   "cell_type": "code",
   "execution_count": 36,
   "metadata": {},
   "outputs": [
    {
     "data": {
      "image/png": "[encoded data removed]",
      "text/plain": [
       "<Figure size 720x432 with 1 Axes>"
      ]
     },
     "metadata": {},
     "output_type": "display_data"
    }
   ],
   "source": [
    "#optionals: setting notebook theme, etc... for EDA\n",
    "plt.rcParams[\"figure.figsize\"] = [10,6]\n",
    "sns.set_style(\"darkgrid\")\n",
    "sns.set_context(\"notebook\", font_scale=1.5, rc={\"font.size\":16,\"axes.titlesize\":16,\"axes.labelsize\":16}) \n",
    "\n",
    "sns.distplot(df1['price_BX'],fit=stats.norm,kde=False)\n",
    "#super imposed the normal curve to the histogram or distribution, \n",
    "#KDE curve is set to false cuz default is True.\n",
    "\n",
    "plt.title('Histogram distribution of Price of Property')\n",
    "plt.xlabel('Price of Property')\n",
    "plt.show()\n",
    "\n",
    "#positively skewed (right skewed)"
   ]
  },
  {
   "cell_type": "markdown",
   "metadata": {},
   "source": [
    "> We can see from the above transformation, Boxcox did a better job in transforming the data to be near normal. However we need to do a normality test to confirm it"
   ]
  },
  {
   "cell_type": "code",
   "execution_count": 37,
   "metadata": {},
   "outputs": [
    {
     "data": {
      "text/plain": [
       "-0.0030211500382591547"
      ]
     },
     "execution_count": 37,
     "metadata": {},
     "output_type": "execute_result"
    }
   ],
   "source": [
    "# calculate skew of distribution \n",
    "# roughly normal\n",
    "df1['price_BX'].skew()"
   ]
  },
  {
   "cell_type": "code",
   "execution_count": 38,
   "metadata": {},
   "outputs": [
    {
     "data": {
      "text/plain": [
       "0.0404657844481755"
      ]
     },
     "execution_count": 38,
     "metadata": {},
     "output_type": "execute_result"
    }
   ],
   "source": [
    "# calculate kurtosis of distribution \n",
    "df1['price_BX'].kurtosis()"
   ]
  },
  {
   "cell_type": "markdown",
   "metadata": {},
   "source": [
    "### Comparison of Boxplot"
   ]
  },
  {
   "cell_type": "code",
   "execution_count": 39,
   "metadata": {},
   "outputs": [
    {
     "data": {
      "image/png": "[encoded data removed]",
      "text/plain": [
       "<Figure size 720x432 with 1 Axes>"
      ]
     },
     "metadata": {},
     "output_type": "display_data"
    }
   ],
   "source": [
    "# plot a boxplot based on price\n",
    "sns.boxplot(x=df1['price']).set_title('Boxplot of Resale Price')\n",
    "plt.show()"
   ]
  },
  {
   "cell_type": "markdown",
   "metadata": {},
   "source": [
    "> From the box plot on price, we are not able to see any good result on the price. Hence we need to rescale price using log and boxcox"
   ]
  },
  {
   "cell_type": "code",
   "execution_count": 40,
   "metadata": {},
   "outputs": [
    {
     "data": {
      "image/png": "[encoded data removed]",
      "text/plain": [
       "<Figure size 720x432 with 1 Axes>"
      ]
     },
     "metadata": {},
     "output_type": "display_data"
    }
   ],
   "source": [
    "# plot a boxplot based on price\n",
    "sns.boxplot(x=df1['price_log']).set_title('Boxplot of Resale Price')\n",
    "plt.show()"
   ]
  },
  {
   "cell_type": "code",
   "execution_count": 41,
   "metadata": {},
   "outputs": [
    {
     "data": {
      "image/png": "[encoded data removed]",
      "text/plain": [
       "<Figure size 720x432 with 1 Axes>"
      ]
     },
     "metadata": {},
     "output_type": "display_data"
    }
   ],
   "source": [
    "# plot a boxplot based on price\n",
    "sns.boxplot(x=df1['price_BX']).set_title('Boxplot of Resale Price')\n",
    "plt.show()"
   ]
  },
  {
   "cell_type": "markdown",
   "metadata": {},
   "source": [
    "### Comparison of QQ Plot"
   ]
  },
  {
   "cell_type": "code",
   "execution_count": 42,
   "metadata": {},
   "outputs": [
    {
     "data": {
      "image/png": "[encoded data removed]",
      "text/plain": [
       "<Figure size 720x432 with 1 Axes>"
      ]
     },
     "metadata": {},
     "output_type": "display_data"
    }
   ],
   "source": [
    "# plot a qq plot \n",
    "res=stats.probplot(df1['price'], plot=plt)"
   ]
  },
  {
   "cell_type": "code",
   "execution_count": 43,
   "metadata": {},
   "outputs": [
    {
     "data": {
      "image/png": "[encoded data removed]",
      "text/plain": [
       "<Figure size 720x432 with 1 Axes>"
      ]
     },
     "metadata": {},
     "output_type": "display_data"
    }
   ],
   "source": [
    "# plot a qq plot \n",
    "res=stats.probplot(df1['price_log'], plot=plt)"
   ]
  },
  {
   "cell_type": "code",
   "execution_count": 44,
   "metadata": {},
   "outputs": [
    {
     "data": {
      "image/png": "[encoded data removed]",
      "text/plain": [
       "<Figure size 720x432 with 1 Axes>"
      ]
     },
     "metadata": {},
     "output_type": "display_data"
    }
   ],
   "source": [
    "# plot a qq plot \n",
    "res=stats.probplot(df1['price_BX'], plot=plt)"
   ]
  },
  {
   "cell_type": "markdown",
   "metadata": {},
   "source": [
    "> From the above, we can see that with the Boxcox transformation on price, the QQ plot is roughly normal. "
   ]
  },
  {
   "cell_type": "markdown",
   "metadata": {},
   "source": [
    "### Normality Test"
   ]
  },
  {
   "cell_type": "markdown",
   "metadata": {},
   "source": [
    "### On Price"
   ]
  },
  {
   "cell_type": "code",
   "execution_count": 45,
   "metadata": {},
   "outputs": [
    {
     "name": "stdout",
     "output_type": "stream",
     "text": [
      "stat=151830.768, p=0.000\n",
      "Probably not Gaussian\n"
     ]
    }
   ],
   "source": [
    "# D'Agostino's K^2 Normality Test\n",
    "from scipy.stats import normaltest\n",
    "\n",
    "stat, p = normaltest(df1['price'])         \n",
    "\n",
    "print('stat=%.3f, p=%.3f' % (stat, p))\n",
    "if p > 0.05:\n",
    "    print('Probably Gaussian')\n",
    "else:\n",
    "    print('Probably not Gaussian')"
   ]
  },
  {
   "cell_type": "markdown",
   "metadata": {},
   "source": [
    "### On price after Log transformation"
   ]
  },
  {
   "cell_type": "code",
   "execution_count": 46,
   "metadata": {},
   "outputs": [
    {
     "name": "stdout",
     "output_type": "stream",
     "text": [
      "stat=20691.619, p=0.000\n",
      "Probably not Gaussian\n"
     ]
    }
   ],
   "source": [
    "# D'Agostino's K^2 Normality Test\n",
    "from scipy.stats import normaltest\n",
    "\n",
    "stat, p = normaltest(df1['price_log'])         \n",
    "\n",
    "print('stat=%.3f, p=%.3f' % (stat, p))\n",
    "if p > 0.05:\n",
    "    print('Probably Gaussian')\n",
    "else:\n",
    "    print('Probably not Gaussian')"
   ]
  },
  {
   "cell_type": "markdown",
   "metadata": {},
   "source": [
    "### On price after Boxcox transformation"
   ]
  },
  {
   "cell_type": "code",
   "execution_count": 47,
   "metadata": {},
   "outputs": [
    {
     "name": "stdout",
     "output_type": "stream",
     "text": [
      "stat=3.318, p=0.190\n",
      "Probably Gaussian\n"
     ]
    }
   ],
   "source": [
    "# D'Agostino's K^2 Normality Test\n",
    "from scipy.stats import normaltest\n",
    "\n",
    "stat, p = normaltest(df1['price_BX'])         \n",
    "\n",
    "print('stat=%.3f, p=%.3f' % (stat, p))\n",
    "if p > 0.05:\n",
    "    print('Probably Gaussian')\n",
    "else:\n",
    "    print('Probably not Gaussian')"
   ]
  },
  {
   "cell_type": "markdown",
   "metadata": {},
   "source": [
    "> We can see that with the Boxcox transformation on price, it has passed the normality test."
   ]
  },
  {
   "cell_type": "markdown",
   "metadata": {},
   "source": [
    "> In order to conduct a Parametric Test, we need to check for:\n",
    "> 1) Normality of distribution/ Gaussian Distribution\n",
    "> 2) Homoscedasticity or Homogeneity of Variance\n",
    "> 3) Independance between rows, that each row of data has been drawn independently of others\n",
    "> 4) Dependent Variable (Price) is continuous"
   ]
  },
  {
   "cell_type": "markdown",
   "metadata": {},
   "source": [
    "### Perform Inverse Boxcox"
   ]
  },
  {
   "cell_type": "code",
   "execution_count": 48,
   "metadata": {},
   "outputs": [
    {
     "data": {
      "text/plain": [
       "0        1.691910e+06\n",
       "1        1.600000e+06\n",
       "2        1.800000e+06\n",
       "3        1.270000e+06\n",
       "4        1.595000e+06\n",
       "             ...     \n",
       "49201    1.015000e+06\n",
       "49202    1.000000e+06\n",
       "49203    1.030000e+06\n",
       "49204    1.530000e+06\n",
       "49205    1.700000e+06\n",
       "Name: RBX_price, Length: 48850, dtype: float64"
      ]
     },
     "execution_count": 48,
     "metadata": {},
     "output_type": "execute_result"
    }
   ],
   "source": [
    "# perform reverse Box-Cox transformation on transformed data\n",
    "df1['RBX_price']=inv_boxcox(df1['price_BX'],fitted_lambda)\n",
    "df1['RBX_price']"
   ]
  },
  {
   "cell_type": "markdown",
   "metadata": {},
   "source": [
    "### For Business Question 1"
   ]
  },
  {
   "cell_type": "markdown",
   "metadata": {},
   "source": [
    "### Z Test with random sampling "
   ]
  },
  {
   "cell_type": "code",
   "execution_count": 49,
   "metadata": {},
   "outputs": [
    {
     "name": "stdout",
     "output_type": "stream",
     "text": [
      "2090048\n"
     ]
    }
   ],
   "source": [
    "# calculate the population mean\n",
    "average = round(df1['RBX_price'].mean())\n",
    "print(average)"
   ]
  },
  {
   "cell_type": "markdown",
   "metadata": {},
   "source": [
    "### 1 sample Z Test about population mean"
   ]
  },
  {
   "cell_type": "code",
   "execution_count": 50,
   "metadata": {},
   "outputs": [
    {
     "data": {
      "text/html": [
       "<div>\n",
       "<style scoped>\n",
       "    .dataframe tbody tr th:only-of-type {\n",
       "        vertical-align: middle;\n",
       "    }\n",
       "\n",
       "    .dataframe tbody tr th {\n",
       "        vertical-align: top;\n",
       "    }\n",
       "\n",
       "    .dataframe thead th {\n",
       "        text-align: right;\n",
       "    }\n",
       "</style>\n",
       "<table border=\"1\" class=\"dataframe\">\n",
       "  <thead>\n",
       "    <tr style=\"text-align: right;\">\n",
       "      <th></th>\n",
       "      <th>project_name</th>\n",
       "      <th>street_name</th>\n",
       "      <th>type</th>\n",
       "      <th>postal_district</th>\n",
       "      <th>market_segment</th>\n",
       "      <th>type_of_sale</th>\n",
       "      <th>no_of_units</th>\n",
       "      <th>price</th>\n",
       "      <th>area</th>\n",
       "      <th>type_of_area</th>\n",
       "      <th>floor_level</th>\n",
       "      <th>unit_price</th>\n",
       "      <th>lease</th>\n",
       "      <th>lease_commencement</th>\n",
       "      <th>month</th>\n",
       "      <th>year</th>\n",
       "      <th>remaining_lease</th>\n",
       "      <th>price_log</th>\n",
       "      <th>price_BX</th>\n",
       "      <th>RBX_price</th>\n",
       "    </tr>\n",
       "  </thead>\n",
       "  <tbody>\n",
       "    <tr>\n",
       "      <th>24008</th>\n",
       "      <td>NIN RESIDENCE</td>\n",
       "      <td>PHENG GECK AVENUE</td>\n",
       "      <td>Apartment</td>\n",
       "      <td>13</td>\n",
       "      <td>RCR</td>\n",
       "      <td>Resale</td>\n",
       "      <td>1</td>\n",
       "      <td>857800</td>\n",
       "      <td>635</td>\n",
       "      <td>Strata</td>\n",
       "      <td>01 to 05</td>\n",
       "      <td>1351</td>\n",
       "      <td>99</td>\n",
       "      <td>2010</td>\n",
       "      <td>Nov</td>\n",
       "      <td>17</td>\n",
       "      <td>88</td>\n",
       "      <td>13.662126</td>\n",
       "      <td>1.759123</td>\n",
       "      <td>8.578000e+05</td>\n",
       "    </tr>\n",
       "    <tr>\n",
       "      <th>32682</th>\n",
       "      <td>AQUARIUS BY THE PARK</td>\n",
       "      <td>BEDOK RESERVOIR VIEW</td>\n",
       "      <td>Condominium</td>\n",
       "      <td>16</td>\n",
       "      <td>OCR</td>\n",
       "      <td>Resale</td>\n",
       "      <td>1</td>\n",
       "      <td>1220000</td>\n",
       "      <td>1227</td>\n",
       "      <td>Strata</td>\n",
       "      <td>16 to 20</td>\n",
       "      <td>994</td>\n",
       "      <td>99</td>\n",
       "      <td>1996</td>\n",
       "      <td>Jul</td>\n",
       "      <td>19</td>\n",
       "      <td>74</td>\n",
       "      <td>14.014361</td>\n",
       "      <td>1.759259</td>\n",
       "      <td>1.220000e+06</td>\n",
       "    </tr>\n",
       "    <tr>\n",
       "      <th>47177</th>\n",
       "      <td>YISHUN EMERALD</td>\n",
       "      <td>CANBERRA DRIVE</td>\n",
       "      <td>Condominium</td>\n",
       "      <td>27</td>\n",
       "      <td>OCR</td>\n",
       "      <td>Resale</td>\n",
       "      <td>1</td>\n",
       "      <td>835000</td>\n",
       "      <td>1206</td>\n",
       "      <td>Strata</td>\n",
       "      <td>06 to 10</td>\n",
       "      <td>693</td>\n",
       "      <td>99</td>\n",
       "      <td>1998</td>\n",
       "      <td>Dec</td>\n",
       "      <td>20</td>\n",
       "      <td>76</td>\n",
       "      <td>13.635187</td>\n",
       "      <td>1.759112</td>\n",
       "      <td>8.350000e+05</td>\n",
       "    </tr>\n",
       "    <tr>\n",
       "      <th>11623</th>\n",
       "      <td>THE PIER AT ROBERTSON</td>\n",
       "      <td>MOHAMED SULTAN ROAD</td>\n",
       "      <td>Apartment</td>\n",
       "      <td>9</td>\n",
       "      <td>CCR</td>\n",
       "      <td>Resale</td>\n",
       "      <td>1</td>\n",
       "      <td>1430000</td>\n",
       "      <td>732</td>\n",
       "      <td>Strata</td>\n",
       "      <td>06 to 10</td>\n",
       "      <td>1954</td>\n",
       "      <td>0</td>\n",
       "      <td>0</td>\n",
       "      <td>Feb</td>\n",
       "      <td>18</td>\n",
       "      <td>-2021</td>\n",
       "      <td>14.173185</td>\n",
       "      <td>1.759312</td>\n",
       "      <td>1.430000e+06</td>\n",
       "    </tr>\n",
       "    <tr>\n",
       "      <th>2587</th>\n",
       "      <td>CARIBBEAN AT KEPPEL BAY</td>\n",
       "      <td>KEPPEL BAY DRIVE</td>\n",
       "      <td>Condominium</td>\n",
       "      <td>4</td>\n",
       "      <td>RCR</td>\n",
       "      <td>Resale</td>\n",
       "      <td>1</td>\n",
       "      <td>2520000</td>\n",
       "      <td>1636</td>\n",
       "      <td>Strata</td>\n",
       "      <td>01 to 05</td>\n",
       "      <td>1540</td>\n",
       "      <td>99</td>\n",
       "      <td>1999</td>\n",
       "      <td>Jun</td>\n",
       "      <td>19</td>\n",
       "      <td>77</td>\n",
       "      <td>14.739769</td>\n",
       "      <td>1.759466</td>\n",
       "      <td>2.520000e+06</td>\n",
       "    </tr>\n",
       "    <tr>\n",
       "      <th>...</th>\n",
       "      <td>...</td>\n",
       "      <td>...</td>\n",
       "      <td>...</td>\n",
       "      <td>...</td>\n",
       "      <td>...</td>\n",
       "      <td>...</td>\n",
       "      <td>...</td>\n",
       "      <td>...</td>\n",
       "      <td>...</td>\n",
       "      <td>...</td>\n",
       "      <td>...</td>\n",
       "      <td>...</td>\n",
       "      <td>...</td>\n",
       "      <td>...</td>\n",
       "      <td>...</td>\n",
       "      <td>...</td>\n",
       "      <td>...</td>\n",
       "      <td>...</td>\n",
       "      <td>...</td>\n",
       "      <td>...</td>\n",
       "    </tr>\n",
       "    <tr>\n",
       "      <th>12534</th>\n",
       "      <td>PARC EMILY</td>\n",
       "      <td>MOUNT EMILY ROAD</td>\n",
       "      <td>Condominium</td>\n",
       "      <td>9</td>\n",
       "      <td>CCR</td>\n",
       "      <td>Resale</td>\n",
       "      <td>1</td>\n",
       "      <td>2780000</td>\n",
       "      <td>1733</td>\n",
       "      <td>Strata</td>\n",
       "      <td>06 to 10</td>\n",
       "      <td>1604</td>\n",
       "      <td>0</td>\n",
       "      <td>0</td>\n",
       "      <td>Sep</td>\n",
       "      <td>17</td>\n",
       "      <td>-2021</td>\n",
       "      <td>14.837961</td>\n",
       "      <td>1.759488</td>\n",
       "      <td>2.780000e+06</td>\n",
       "    </tr>\n",
       "    <tr>\n",
       "      <th>10530</th>\n",
       "      <td>THE SUITES AT CENTRAL</td>\n",
       "      <td>DEVONSHIRE ROAD</td>\n",
       "      <td>Condominium</td>\n",
       "      <td>9</td>\n",
       "      <td>CCR</td>\n",
       "      <td>Resale</td>\n",
       "      <td>1</td>\n",
       "      <td>3330000</td>\n",
       "      <td>1378</td>\n",
       "      <td>Strata</td>\n",
       "      <td>11 to 15</td>\n",
       "      <td>2417</td>\n",
       "      <td>0</td>\n",
       "      <td>0</td>\n",
       "      <td>Jul</td>\n",
       "      <td>18</td>\n",
       "      <td>-2021</td>\n",
       "      <td>15.018483</td>\n",
       "      <td>1.759525</td>\n",
       "      <td>3.330000e+06</td>\n",
       "    </tr>\n",
       "    <tr>\n",
       "      <th>4154</th>\n",
       "      <td>CARIBBEAN AT KEPPEL BAY</td>\n",
       "      <td>KEPPEL BAY DRIVE</td>\n",
       "      <td>Condominium</td>\n",
       "      <td>4</td>\n",
       "      <td>RCR</td>\n",
       "      <td>Resale</td>\n",
       "      <td>1</td>\n",
       "      <td>2600000</td>\n",
       "      <td>1668</td>\n",
       "      <td>Strata</td>\n",
       "      <td>01 to 05</td>\n",
       "      <td>1558</td>\n",
       "      <td>99</td>\n",
       "      <td>1999</td>\n",
       "      <td>Feb</td>\n",
       "      <td>18</td>\n",
       "      <td>77</td>\n",
       "      <td>14.771022</td>\n",
       "      <td>1.759473</td>\n",
       "      <td>2.600000e+06</td>\n",
       "    </tr>\n",
       "    <tr>\n",
       "      <th>12807</th>\n",
       "      <td>RV RESIDENCES</td>\n",
       "      <td>RIVER VALLEY ROAD</td>\n",
       "      <td>Condominium</td>\n",
       "      <td>10</td>\n",
       "      <td>CCR</td>\n",
       "      <td>Resale</td>\n",
       "      <td>1</td>\n",
       "      <td>1341880</td>\n",
       "      <td>678</td>\n",
       "      <td>Strata</td>\n",
       "      <td>01 to 05</td>\n",
       "      <td>1979</td>\n",
       "      <td>999</td>\n",
       "      <td>1877</td>\n",
       "      <td>Aug</td>\n",
       "      <td>17</td>\n",
       "      <td>855</td>\n",
       "      <td>14.109582</td>\n",
       "      <td>1.759291</td>\n",
       "      <td>1.341880e+06</td>\n",
       "    </tr>\n",
       "    <tr>\n",
       "      <th>43394</th>\n",
       "      <td>ECO SANCTUARY</td>\n",
       "      <td>CHESTNUT AVENUE</td>\n",
       "      <td>Condominium</td>\n",
       "      <td>23</td>\n",
       "      <td>OCR</td>\n",
       "      <td>Resale</td>\n",
       "      <td>1</td>\n",
       "      <td>950000</td>\n",
       "      <td>753</td>\n",
       "      <td>Strata</td>\n",
       "      <td>06 to 10</td>\n",
       "      <td>1261</td>\n",
       "      <td>99</td>\n",
       "      <td>2012</td>\n",
       "      <td>Nov</td>\n",
       "      <td>18</td>\n",
       "      <td>90</td>\n",
       "      <td>13.764217</td>\n",
       "      <td>1.759165</td>\n",
       "      <td>9.500000e+05</td>\n",
       "    </tr>\n",
       "  </tbody>\n",
       "</table>\n",
       "<p>12212 rows × 20 columns</p>\n",
       "</div>"
      ],
      "text/plain": [
       "                  project_name           street_name         type  \\\n",
       "24008            NIN RESIDENCE     PHENG GECK AVENUE    Apartment   \n",
       "32682     AQUARIUS BY THE PARK  BEDOK RESERVOIR VIEW  Condominium   \n",
       "47177           YISHUN EMERALD        CANBERRA DRIVE  Condominium   \n",
       "11623    THE PIER AT ROBERTSON   MOHAMED SULTAN ROAD    Apartment   \n",
       "2587   CARIBBEAN AT KEPPEL BAY      KEPPEL BAY DRIVE  Condominium   \n",
       "...                        ...                   ...          ...   \n",
       "12534               PARC EMILY      MOUNT EMILY ROAD  Condominium   \n",
       "10530    THE SUITES AT CENTRAL       DEVONSHIRE ROAD  Condominium   \n",
       "4154   CARIBBEAN AT KEPPEL BAY      KEPPEL BAY DRIVE  Condominium   \n",
       "12807            RV RESIDENCES     RIVER VALLEY ROAD  Condominium   \n",
       "43394            ECO SANCTUARY       CHESTNUT AVENUE  Condominium   \n",
       "\n",
       "       postal_district market_segment type_of_sale  no_of_units    price  \\\n",
       "24008               13            RCR       Resale            1   857800   \n",
       "32682               16            OCR       Resale            1  1220000   \n",
       "47177               27            OCR       Resale            1   835000   \n",
       "11623                9            CCR       Resale            1  1430000   \n",
       "2587                 4            RCR       Resale            1  2520000   \n",
       "...                ...            ...          ...          ...      ...   \n",
       "12534                9            CCR       Resale            1  2780000   \n",
       "10530                9            CCR       Resale            1  3330000   \n",
       "4154                 4            RCR       Resale            1  2600000   \n",
       "12807               10            CCR       Resale            1  1341880   \n",
       "43394               23            OCR       Resale            1   950000   \n",
       "\n",
       "       area type_of_area floor_level  unit_price  lease  lease_commencement  \\\n",
       "24008   635       Strata    01 to 05        1351     99                2010   \n",
       "32682  1227       Strata    16 to 20         994     99                1996   \n",
       "47177  1206       Strata    06 to 10         693     99                1998   \n",
       "11623   732       Strata    06 to 10        1954      0                   0   \n",
       "2587   1636       Strata    01 to 05        1540     99                1999   \n",
       "...     ...          ...         ...         ...    ...                 ...   \n",
       "12534  1733       Strata    06 to 10        1604      0                   0   \n",
       "10530  1378       Strata    11 to 15        2417      0                   0   \n",
       "4154   1668       Strata    01 to 05        1558     99                1999   \n",
       "12807   678       Strata    01 to 05        1979    999                1877   \n",
       "43394   753       Strata    06 to 10        1261     99                2012   \n",
       "\n",
       "      month  year  remaining_lease  price_log  price_BX     RBX_price  \n",
       "24008   Nov    17               88  13.662126  1.759123  8.578000e+05  \n",
       "32682   Jul    19               74  14.014361  1.759259  1.220000e+06  \n",
       "47177   Dec    20               76  13.635187  1.759112  8.350000e+05  \n",
       "11623   Feb    18            -2021  14.173185  1.759312  1.430000e+06  \n",
       "2587    Jun    19               77  14.739769  1.759466  2.520000e+06  \n",
       "...     ...   ...              ...        ...       ...           ...  \n",
       "12534   Sep    17            -2021  14.837961  1.759488  2.780000e+06  \n",
       "10530   Jul    18            -2021  15.018483  1.759525  3.330000e+06  \n",
       "4154    Feb    18               77  14.771022  1.759473  2.600000e+06  \n",
       "12807   Aug    17              855  14.109582  1.759291  1.341880e+06  \n",
       "43394   Nov    18               90  13.764217  1.759165  9.500000e+05  \n",
       "\n",
       "[12212 rows x 20 columns]"
      ]
     },
     "execution_count": 50,
     "metadata": {},
     "output_type": "execute_result"
    }
   ],
   "source": [
    "# conduct a random sampling\n",
    "df1_randsample = df1.sample(frac=0.25, random_state=0)\n",
    "df1_randsample"
   ]
  },
  {
   "cell_type": "code",
   "execution_count": 51,
   "metadata": {},
   "outputs": [
    {
     "name": "stdout",
     "output_type": "stream",
     "text": [
      "2003699\n"
     ]
    }
   ],
   "source": [
    "# calculate the sample mean\n",
    "sample_average = round(df1_randsample['RBX_price'].mean())\n",
    "print(sample_average)"
   ]
  },
  {
   "cell_type": "markdown",
   "metadata": {},
   "source": [
    "### Testing the hypothesis that the mean is 2090048 against the alternative that it is not\n",
    "$\\begin{align}\n",
    "  & {{H}_{0}}:\\,\\mu =\\,{{\\mu }_{0}} \\\\ \n",
    " & {{H}_{1}}:\\,\\mu \\ne {{\\mu }_{0}} \\\\ \n",
    "\\end{align}$"
   ]
  },
  {
   "cell_type": "code",
   "execution_count": 52,
   "metadata": {},
   "outputs": [],
   "source": [
    "# The investor claims that the average price of the private resales property in Singapore is $2090048.\n",
    "# However, the property agent feels that the average price of the private resales property in Singapore is not $2090048.\n",
    "# Is there enough evidence at 5% level of significance to conclude that the average price of the resales property is $2090048?"
   ]
  },
  {
   "cell_type": "code",
   "execution_count": 53,
   "metadata": {},
   "outputs": [
    {
     "name": "stdout",
     "output_type": "stream",
     "text": [
      "The test statistic is:  -0.77131\n",
      "The p-value is:  0.44052\n"
     ]
    }
   ],
   "source": [
    "# use of z test\n",
    "(test_statistic, p_value) = ztest(df1_randsample['RBX_price'], value=average, alternative='two-sided', ddof=1.0)\n",
    "print(\"The test statistic is: \", round(test_statistic,5))\n",
    "print(\"The p-value is: \", round(p_value,5))\n",
    "# at 0.05 level of significance, we fail to reject the null hypothesis since p-value of 0.44052 > 0.05 \n",
    "# conclude there is enough evidence that average price of the property is $2090048."
   ]
  },
  {
   "cell_type": "markdown",
   "metadata": {},
   "source": [
    "### Testing the hypothesis that the mean is 2090048 against the alternative that it is greater\n",
    "$\\begin{align}\n",
    "  & {{H}_{0}}:\\mu ={{\\mu }_{0}} \\\\ \n",
    " & {{H}_{1}}:\\mu >{{\\mu }_{0}} \\\\ \n",
    "\\end{align}$  "
   ]
  },
  {
   "cell_type": "code",
   "execution_count": 54,
   "metadata": {},
   "outputs": [],
   "source": [
    "# The investor claims that the average price of the private resales property in Singapore is $2090048.\n",
    "# However, the property agent feels that the average price of the private resales property in Singapore is greater than $2090048.\n",
    "# Is there enough evidence at 5% level of significance to conclude that the average price of the resales property is $2090048?"
   ]
  },
  {
   "cell_type": "code",
   "execution_count": 55,
   "metadata": {},
   "outputs": [
    {
     "name": "stdout",
     "output_type": "stream",
     "text": [
      "The test statistic is:  -0.77131\n",
      "The p-value is:  0.77974\n"
     ]
    }
   ],
   "source": [
    "# use of z test\n",
    "(test_statistic, p_value) = ztest(df1_randsample['RBX_price'], value=average, alternative='larger', ddof=1.0)\n",
    "print(\"The test statistic is: \", round(test_statistic,5))\n",
    "print(\"The p-value is: \", round(p_value,5))\n",
    "# at 0.05 level of significance, we fail to reject the null hypothesis since p-value of 0.77974 > 0.05 \n",
    "# conclude there is enough evidence that average price of the property is $2090048."
   ]
  },
  {
   "cell_type": "markdown",
   "metadata": {},
   "source": [
    "### Testing the hypothesis that the mean is 2090048 against the alternative that it is smaller\n",
    "$\\begin{align}\n",
    "  & {{H}_{0}}:\\mu ={{\\mu }_{0}} \\\\ \n",
    " & {{H}_{1}}:\\mu < {{\\mu }_{0}} \\\\ \n",
    "\\end{align}$  "
   ]
  },
  {
   "cell_type": "code",
   "execution_count": 56,
   "metadata": {},
   "outputs": [],
   "source": [
    "# The investor claims that the average price of the private resales property in Singapore is $2090048.\n",
    "# However, the property agent feels that the average price of the private resales property in Singapore is lesser than $2090048.\n",
    "# Is there enough evidence at 5% level of significance to conclude that the average price of the resales property is $2090048?"
   ]
  },
  {
   "cell_type": "code",
   "execution_count": 57,
   "metadata": {},
   "outputs": [
    {
     "name": "stdout",
     "output_type": "stream",
     "text": [
      "The test statistic is:  -0.77131\n",
      "The p-value is:  0.22026\n"
     ]
    }
   ],
   "source": [
    "# use of z test\n",
    "(test_statistic, p_value) = ztest(df1_randsample['RBX_price'], value=average, alternative='smaller', ddof=1.0)\n",
    "print(\"The test statistic is: \", round(test_statistic,5))\n",
    "print(\"The p-value is: \", round(p_value,5))\n",
    "# at 0.05 level of significance, we fail to reject the null hypothesis since p-value of 0.22026 > 0.05 \n",
    "# conclude there is enough evidence that average price of the property is $2090048."
   ]
  },
  {
   "cell_type": "markdown",
   "metadata": {},
   "source": [
    "### Result"
   ]
  },
  {
   "cell_type": "markdown",
   "metadata": {},
   "source": [
    "> The sample mean price of property is representative of the population mean price of property."
   ]
  },
  {
   "cell_type": "markdown",
   "metadata": {},
   "source": [
    "### Group floor level to 3 main groups Low (B1 to 20), Mid (21 to 45) and High (46 onwards to 75)"
   ]
  },
  {
   "cell_type": "code",
   "execution_count": 58,
   "metadata": {},
   "outputs": [],
   "source": [
    "# group floor level to low, mid, high\n",
    "df1['floor_level']=df1['floor_level'].replace({'-': 'low'})\n",
    "df1['floor_level']=df1['floor_level'].replace({'B1 to B5': 'low'})\n",
    "df1['floor_level']=df1['floor_level'].replace({'01 to 05': 'low'})\n",
    "df1['floor_level']=df1['floor_level'].replace({'06 to 10': 'low'})\n",
    "df1['floor_level']=df1['floor_level'].replace({'11 to 15': 'low'})\n",
    "df1['floor_level']=df1['floor_level'].replace({'16 to 20': 'low'})\n",
    "df1['floor_level']=df1['floor_level'].replace({'21 to 25': 'mid'})\n",
    "df1['floor_level']=df1['floor_level'].replace({'26 to 30': 'mid'})\n",
    "df1['floor_level']=df1['floor_level'].replace({'31 to 35': 'mid'})\n",
    "df1['floor_level']=df1['floor_level'].replace({'36 to 40': 'mid'})\n",
    "df1['floor_level']=df1['floor_level'].replace({'41 to 45': 'mid'})\n",
    "df1['floor_level']=df1['floor_level'].replace({'46 to 50': 'high'})\n",
    "df1['floor_level']=df1['floor_level'].replace({'51 to 55': 'high'})\n",
    "df1['floor_level']=df1['floor_level'].replace({'56 to 60': 'high'})\n",
    "df1['floor_level']=df1['floor_level'].replace({'61 to 65': 'high'})\n",
    "df1['floor_level']=df1['floor_level'].replace({'66 to 70': 'high'})\n",
    "df1['floor_level']=df1['floor_level'].replace({'71 to 75': 'high'})"
   ]
  },
  {
   "cell_type": "code",
   "execution_count": 59,
   "metadata": {},
   "outputs": [],
   "source": [
    "resale_price1 = df1['RBX_price'][df1['floor_level']=='low']\n",
    "resale_price2 = df1['RBX_price'][df1['floor_level']=='mid']\n",
    "resale_price3 = df1['RBX_price'][df1['floor_level']=='high']"
   ]
  },
  {
   "cell_type": "code",
   "execution_count": 60,
   "metadata": {},
   "outputs": [
    {
     "data": {
      "text/plain": [
       "array(['low', 'mid', 'high'], dtype=object)"
      ]
     },
     "execution_count": 60,
     "metadata": {},
     "output_type": "execute_result"
    }
   ],
   "source": [
    "df1.floor_level.unique()"
   ]
  },
  {
   "cell_type": "markdown",
   "metadata": {},
   "source": [
    "### Testing equality of variances with Levene Test"
   ]
  },
  {
   "cell_type": "markdown",
   "metadata": {},
   "source": [
    "\\begin{align}\n",
    "  & {{H}_{0}}:\\,\\,\\sigma _{1}^{2}\\,=\\,\\,\\sigma _{2}^{2} \\,=\\,\\,\\sigma _{3}^{2}\\\\ \n",
    " & {{H}_{1}}:\\,\\,\\sigma _{1}^{2}\\,\\ne \\,\\,\\sigma _{2}^{2}\\,\\ne \\,\\,\\sigma _{3}^{2} \\\\ \n",
    "\\end{align}"
   ]
  },
  {
   "cell_type": "markdown",
   "metadata": {},
   "source": [
    "> H0 : they have the same variance in all groups <br>\n",
    "> H1 : they are different in some groups than in others"
   ]
  },
  {
   "cell_type": "code",
   "execution_count": 61,
   "metadata": {},
   "outputs": [
    {
     "name": "stdout",
     "output_type": "stream",
     "text": [
      "The test statistic is:  0.6859\n",
      "The p-value is:  0.50364\n"
     ]
    }
   ],
   "source": [
    "# use of levene test to test if the variances of these groups are the same\n",
    "(test_statistic, p_value) = stats.levene(resale_price1, resale_price2, resale_price3)\n",
    "print(\"The test statistic is: \", round(test_statistic,5))\n",
    "print(\"The p-value is: \", round(p_value,5))\n",
    "# at 0.05 level of significance, we fail to reject the null hypothesis since p-value of 0.50364 > 0.05 \n",
    "# conclude there is enough evidence that they have the same variances"
   ]
  },
  {
   "cell_type": "markdown",
   "metadata": {},
   "source": [
    "### For Business Question 2"
   ]
  },
  {
   "cell_type": "markdown",
   "metadata": {},
   "source": [
    "### ANOVA Test"
   ]
  },
  {
   "cell_type": "markdown",
   "metadata": {},
   "source": [
    "> Anova Test allows more than 2 groups.\n",
    "> We have more than 2 groups (3 intragroups - Low, Mid and High)."
   ]
  },
  {
   "cell_type": "markdown",
   "metadata": {},
   "source": [
    "\\begin{align}\n",
    "  & {{H}_{0}}:\\,\\,\\mu _{1}\\,=\\,\\,\\mu _{2}\\,=\\,\\,\\mu _{3} \\\\\n",
    " & {{H}_{1}}:\\,\\,\\mu _{1}\\,\\ne \\,\\,\\mu _{2}\\,\\ne \\,\\,\\mu _{3} \\\\ \n",
    "\\end{align}\n",
    "\n",
    "> H0 : they have the same distribution for the resale transaction in all groups <br>\n",
    "> H1 : they are different in some groups than in others"
   ]
  },
  {
   "cell_type": "code",
   "execution_count": 62,
   "metadata": {},
   "outputs": [],
   "source": [
    "pivoted_cdf = df1.pivot( columns='floor_level', values='RBX_price')"
   ]
  },
  {
   "cell_type": "code",
   "execution_count": 63,
   "metadata": {},
   "outputs": [],
   "source": [
    "model = smf.ols('RBX_price ~ C(floor_level)', data=df1).fit()  \n",
    "aov_table = anova_lm(model, typ=2)"
   ]
  },
  {
   "cell_type": "code",
   "execution_count": 64,
   "metadata": {},
   "outputs": [
    {
     "name": "stdout",
     "output_type": "stream",
     "text": [
      "                      sum_sq       df         F    PR(>F)\n",
      "C(floor_level)  1.648391e+15      2.0  4.236293  0.014466\n",
      "Residual        9.503468e+18  48847.0       NaN       NaN\n"
     ]
    }
   ],
   "source": [
    "print(aov_table)\n",
    "# at 0.05 level of significance, we reject the null hypothesis since p-value of 0.014466 < 0.05 \n",
    "# conclude there is enough evidence that they have different distributions"
   ]
  },
  {
   "cell_type": "markdown",
   "metadata": {},
   "source": [
    "> dof = 2 groups <br>\n",
    "> dof = (Low, Mid, High) - 1 <br>\n",
    "> because p-value (PR(>F)) at 5% level significance, indicates that 0.014466 is less than 0.05. <br>\n",
    "> thus we reject the null hypothesis in favour of the alternate hypothesis that there are difference in some groups of floor level then in others."
   ]
  },
  {
   "cell_type": "markdown",
   "metadata": {},
   "source": [
    "### Post Hoc Test"
   ]
  },
  {
   "cell_type": "markdown",
   "metadata": {},
   "source": [
    "> Since we have established that there are differences between some groups of floor level than in others, we need to uncover the specific difference when ANOVA F test is significant."
   ]
  },
  {
   "cell_type": "markdown",
   "metadata": {},
   "source": [
    "### To find out which pair of treatments are significantly different from each other"
   ]
  },
  {
   "cell_type": "markdown",
   "metadata": {},
   "source": [
    "### Tukey HSD for multiple comparision"
   ]
  },
  {
   "cell_type": "code",
   "execution_count": 65,
   "metadata": {},
   "outputs": [
    {
     "name": "stdout",
     "output_type": "stream",
     "text": [
      "        Multiple Comparison of Means - Tukey HSD, FWER=0.05        \n",
      "===================================================================\n",
      "group1 group2   meandiff   p-adj      lower        upper     reject\n",
      "-------------------------------------------------------------------\n",
      "  high    low -808917.7686 0.6616 -3059546.1693  1441710.632  False\n",
      "  high    mid -177635.9617    0.9 -2478923.8408 2123651.9174  False\n",
      "   low    mid  631281.8069  0.014   103365.8687 1159197.7451   True\n",
      "-------------------------------------------------------------------\n"
     ]
    }
   ],
   "source": [
    "# multiple comparison of resale price for floor_level\n",
    "mcTreatment    = multi.MultiComparison(df1['RBX_price'], df1['floor_level'])\n",
    "results_Treatment  = mcTreatment.tukeyhsd()\n",
    "print(results_Treatment.summary())\n",
    "# a result of ’reject = True’ means that a significant difference has been observed"
   ]
  },
  {
   "cell_type": "markdown",
   "metadata": {},
   "source": [
    "> From the above, we can see that the pricing between low and mid are significantly different."
   ]
  },
  {
   "cell_type": "code",
   "execution_count": 66,
   "metadata": {},
   "outputs": [
    {
     "data": {
      "image/png": "[encoded data removed]",
      "text/plain": [
       "<Figure size 720x432 with 1 Axes>"
      ]
     },
     "metadata": {},
     "output_type": "display_data"
    }
   ],
   "source": [
    "# plot boxplot to ascertain if there is overlap\n",
    "sns.set_context(\"paper\", font_scale=1.5, rc={\"font.size\":16,\"axes.titlesize\":16,\"axes.labelsize\":16}) \n",
    "plt.title('Boxplot comparing resale price by floor_level')\n",
    "sns.boxplot(x='floor_level', y='price_BX', data=df1)\n",
    "plt.xlabel('floor_level')\n",
    "plt.ylabel('resale_price')\n",
    "plt.xticks(rotation=45)\n",
    "plt.show()"
   ]
  },
  {
   "cell_type": "markdown",
   "metadata": {},
   "source": [
    "> From the above box plot, we can see that there are indeed differences between low and mid."
   ]
  },
  {
   "cell_type": "code",
   "execution_count": 67,
   "metadata": {},
   "outputs": [
    {
     "data": {
      "image/png": "[encoded data removed]",
      "text/plain": [
       "<Figure size 720x432 with 1 Axes>"
      ]
     },
     "metadata": {},
     "output_type": "display_data"
    }
   ],
   "source": [
    "# plot residual plot\n",
    "residuals = model.resid \n",
    "fig = sm.qqplot(residuals, line='s') \n",
    "plt.show()"
   ]
  },
  {
   "cell_type": "markdown",
   "metadata": {},
   "source": [
    "> As the residual is not normally distributed, we will conduct a non-parametric test as well for comparison."
   ]
  },
  {
   "cell_type": "markdown",
   "metadata": {},
   "source": [
    "### Comparison with a Non-Parametric Test"
   ]
  },
  {
   "cell_type": "markdown",
   "metadata": {},
   "source": [
    "\\begin{align}\n",
    "  & {{H}_{0}}:\\,\\,\\mu _{1}\\,=\\,\\,\\mu _{2}\\,=\\,\\,\\mu _{3} \\\\\n",
    " & {{H}_{1}}:\\,\\,\\mu _{1}\\,\\ne \\,\\,\\mu _{2}\\,\\ne \\,\\,\\mu _{3} \\\\ \n",
    "\\end{align}\n",
    "\n",
    "> H0 : they have the same distribution for the resale transaction in all groups <br>\n",
    "> H1 : they are different in some groups than in others"
   ]
  },
  {
   "cell_type": "code",
   "execution_count": 68,
   "metadata": {},
   "outputs": [
    {
     "name": "stdout",
     "output_type": "stream",
     "text": [
      "Statistics=2024.077, p=0.000\n",
      "They have different distributions (reject H0)\n"
     ]
    }
   ],
   "source": [
    "# use of Kruskal Wallis\n",
    "stat, p = kruskal(resale_price1, resale_price2, resale_price3)\n",
    "print('Statistics=%.3f, p=%.3f' % (stat, p))\n",
    "alpha = 0.05\n",
    "if p > alpha:\n",
    "    print('They have the distributions (fail to reject H0)')\n",
    "else:\n",
    "    print('They have different distributions (reject H0)')\n",
    "# at 0.05 level of significance, we reject the null hypothesis since p-value < 0.05 \n",
    "# conclude there is enough evidence that they have different distributions"
   ]
  },
  {
   "cell_type": "markdown",
   "metadata": {},
   "source": [
    "### Result"
   ]
  },
  {
   "cell_type": "markdown",
   "metadata": {},
   "source": [
    "> From both parametric and non-parametric tests, we confirmed that they have different distributions in some groups than in others.<br>\n",
    "> There are differences in price of property vs floor level."
   ]
  },
  {
   "cell_type": "markdown",
   "metadata": {},
   "source": [
    "### Remove Outliers"
   ]
  },
  {
   "cell_type": "code",
   "execution_count": 69,
   "metadata": {},
   "outputs": [
    {
     "name": "stdout",
     "output_type": "stream",
     "text": [
      "The 1st Quartile: 1.7591797032161516\n",
      "The 3rd Quartile: 1.7593893831360936\n",
      "The IQR (50% between 1st to 3rd QR): 0.0002096799199420296\n",
      "The Lower Whisker is : 1.7588651833362385 and Upper Whisker is 1.7597039030160067\n"
     ]
    }
   ],
   "source": [
    "# identify IQR and lower/upper whiskers\n",
    "Q1=df1['price_BX'].quantile(0.25)\n",
    "Q3=df1['price_BX'].quantile(0.75)\n",
    "IQR=Q3-Q1\n",
    "print('The 1st Quartile:', Q1)\n",
    "print('The 3rd Quartile:', Q3)\n",
    "print('The IQR (50% between 1st to 3rd QR):', IQR)\n",
    "\n",
    "Lower_Whisker = Q1-1.5*IQR\n",
    "Upper_Whisker = Q3+1.5*IQR\n",
    "print('The Lower Whisker is : {} and Upper Whisker is {}'.format(Lower_Whisker, Upper_Whisker))"
   ]
  },
  {
   "cell_type": "markdown",
   "metadata": {},
   "source": [
    "### Before Removal of Outliers"
   ]
  },
  {
   "cell_type": "code",
   "execution_count": 70,
   "metadata": {},
   "outputs": [
    {
     "data": {
      "image/png": "[encoded data removed]",
      "text/plain": [
       "<Figure size 720x432 with 1 Axes>"
      ]
     },
     "metadata": {},
     "output_type": "display_data"
    }
   ],
   "source": [
    "# plot a boxplot based on price before removal of outliers\n",
    "sns.boxplot(x=df1['price_BX']).set_title('Boxplot of Resale Price')\n",
    "plt.show()"
   ]
  },
  {
   "cell_type": "markdown",
   "metadata": {},
   "source": [
    "### After Removal of Outliers"
   ]
  },
  {
   "cell_type": "code",
   "execution_count": 71,
   "metadata": {},
   "outputs": [
    {
     "data": {
      "text/plain": [
       "<matplotlib.axes._subplots.AxesSubplot at 0x2858cbd7be0>"
      ]
     },
     "execution_count": 71,
     "metadata": {},
     "output_type": "execute_result"
    },
    {
     "data": {
      "image/png": "[encoded data removed]",
      "text/plain": [
       "<Figure size 720x432 with 1 Axes>"
      ]
     },
     "metadata": {},
     "output_type": "display_data"
    }
   ],
   "source": [
    "# after removal of outliers\n",
    "df2 = df1[(df1['price_BX'] < Upper_Whisker) & (df1['price_BX'] > Lower_Whisker)]\n",
    "#df2 = df1[(df1['price_BX'] < Upper_Whisker)]\n",
    "#df2 = df1[(df1['price_BX'] > Lower_Whisker)]\n",
    "sns.boxplot(data=df2,x=df2['price_BX'])"
   ]
  },
  {
   "cell_type": "markdown",
   "metadata": {},
   "source": [
    "### Re-Run ANOVA"
   ]
  },
  {
   "cell_type": "markdown",
   "metadata": {},
   "source": [
    "### Group floor level to 3 main groups Low (B1 to 20), Mid (21 to 45) and High (46 onwards to 75)"
   ]
  },
  {
   "cell_type": "code",
   "execution_count": 72,
   "metadata": {},
   "outputs": [],
   "source": [
    "# group floor level to low, mid, high\n",
    "df2['floor_level']=df2['floor_level'].replace({'-': 'low'})\n",
    "df2['floor_level']=df2['floor_level'].replace({'B1 to B5': 'low'})\n",
    "df2['floor_level']=df2['floor_level'].replace({'01 to 05': 'low'})\n",
    "df2['floor_level']=df2['floor_level'].replace({'06 to 10': 'low'})\n",
    "df2['floor_level']=df2['floor_level'].replace({'11 to 15': 'low'})\n",
    "df2['floor_level']=df2['floor_level'].replace({'16 to 20': 'low'})\n",
    "df2['floor_level']=df2['floor_level'].replace({'21 to 25': 'mid'})\n",
    "df2['floor_level']=df2['floor_level'].replace({'26 to 30': 'mid'})\n",
    "df2['floor_level']=df2['floor_level'].replace({'31 to 35': 'mid'})\n",
    "df2['floor_level']=df2['floor_level'].replace({'36 to 40': 'mid'})\n",
    "df2['floor_level']=df2['floor_level'].replace({'41 to 45': 'mid'})\n",
    "df2['floor_level']=df2['floor_level'].replace({'46 to 50': 'high'})\n",
    "df2['floor_level']=df2['floor_level'].replace({'51 to 55': 'high'})\n",
    "df2['floor_level']=df2['floor_level'].replace({'56 to 60': 'high'})\n",
    "df2['floor_level']=df2['floor_level'].replace({'61 to 65': 'high'})\n",
    "df2['floor_level']=df2['floor_level'].replace({'66 to 70': 'high'})\n",
    "df2['floor_level']=df2['floor_level'].replace({'71 to 75': 'high'})"
   ]
  },
  {
   "cell_type": "code",
   "execution_count": 73,
   "metadata": {},
   "outputs": [],
   "source": [
    "resale_price1 = df2['RBX_price'][df2['floor_level']=='low']\n",
    "resale_price2 = df2['RBX_price'][df2['floor_level']=='mid']\n",
    "resale_price3 = df2['RBX_price'][df2['floor_level']=='high']"
   ]
  },
  {
   "cell_type": "code",
   "execution_count": 74,
   "metadata": {},
   "outputs": [
    {
     "data": {
      "text/plain": [
       "array(['low', 'mid', 'high'], dtype=object)"
      ]
     },
     "execution_count": 74,
     "metadata": {},
     "output_type": "execute_result"
    }
   ],
   "source": [
    "df2.floor_level.unique()"
   ]
  },
  {
   "cell_type": "markdown",
   "metadata": {},
   "source": [
    "### Testing equality of variances with Levene Test"
   ]
  },
  {
   "cell_type": "markdown",
   "metadata": {},
   "source": [
    "\\begin{align}\n",
    "  & {{H}_{0}}:\\,\\,\\sigma _{1}^{2}\\,=\\,\\,\\sigma _{2}^{2} \\,=\\,\\,\\sigma _{3}^{2}\\\\ \n",
    " & {{H}_{1}}:\\,\\,\\sigma _{1}^{2}\\,\\ne \\,\\,\\sigma _{2}^{2}\\,\\ne \\,\\,\\sigma _{3}^{2} \\\\ \n",
    "\\end{align}"
   ]
  },
  {
   "cell_type": "markdown",
   "metadata": {},
   "source": [
    "> H0 : they have the same variance in all groups <br>\n",
    "> H1 : they are different in some groups than in others"
   ]
  },
  {
   "cell_type": "code",
   "execution_count": 75,
   "metadata": {},
   "outputs": [
    {
     "name": "stdout",
     "output_type": "stream",
     "text": [
      "The test statistic is:  480.04414\n",
      "The p-value is:  0.0\n"
     ]
    }
   ],
   "source": [
    "# use of levene test to test if the variances of these groups are the same\n",
    "(test_statistic, p_value) = stats.levene(resale_price1, resale_price2, resale_price3)\n",
    "print(\"The test statistic is: \", round(test_statistic,5))\n",
    "print(\"The p-value is: \", round(p_value,5))\n",
    "# at 0.05 level of significance, we reject the null hypothesis since p-value of 0.0 < 0.05 \n",
    "# conclude that they have the different variance"
   ]
  },
  {
   "cell_type": "markdown",
   "metadata": {},
   "source": [
    "### ANOVA Test"
   ]
  },
  {
   "cell_type": "markdown",
   "metadata": {},
   "source": [
    "\\begin{align}\n",
    "  & {{H}_{0}}:\\,\\,\\mu _{1}\\,=\\,\\,\\mu _{2}\\,=\\,\\,\\mu _{3} \\\\\n",
    " & {{H}_{1}}:\\,\\,\\mu _{1}\\,\\ne \\,\\,\\mu _{2}\\,\\ne \\,\\,\\mu _{3} \\\\ \n",
    "\\end{align}\n",
    "\n",
    "> H0 : they have the same distribution for the resale transaction in all groups <br>\n",
    "> H1 : they are different in some groups than in others"
   ]
  },
  {
   "cell_type": "code",
   "execution_count": 76,
   "metadata": {},
   "outputs": [],
   "source": [
    "pivoted_cdf = df2.pivot( columns='floor_level', values='RBX_price')"
   ]
  },
  {
   "cell_type": "code",
   "execution_count": 77,
   "metadata": {},
   "outputs": [],
   "source": [
    "model = smf.ols('RBX_price ~ C(floor_level)', data=df2).fit()  \n",
    "aov_table = anova_lm(model, typ=2)"
   ]
  },
  {
   "cell_type": "code",
   "execution_count": 78,
   "metadata": {},
   "outputs": [
    {
     "name": "stdout",
     "output_type": "stream",
     "text": [
      "                      sum_sq       df            F  PR(>F)\n",
      "C(floor_level)  3.053868e+15      2.0  1084.547221     0.0\n",
      "Residual        6.825218e+16  48478.0          NaN     NaN\n"
     ]
    }
   ],
   "source": [
    "print(aov_table)\n",
    "# at 0.05 level of significance, we reject the null hypothesis since p-value of 0.0 < 0.05 \n",
    "# conclude there is enough evidence that they have different distributions"
   ]
  },
  {
   "cell_type": "markdown",
   "metadata": {},
   "source": [
    "### Post Hoc Test"
   ]
  },
  {
   "cell_type": "markdown",
   "metadata": {},
   "source": [
    "> Since we have established that there are differences between some groups of floor level than in others, we need to uncover the specific difference when ANOVA F test is significant."
   ]
  },
  {
   "cell_type": "markdown",
   "metadata": {},
   "source": [
    "### To find out which pair of treatments are significantly different from each other"
   ]
  },
  {
   "cell_type": "markdown",
   "metadata": {},
   "source": [
    "### Tukey HSD for multiple comparision"
   ]
  },
  {
   "cell_type": "code",
   "execution_count": 79,
   "metadata": {},
   "outputs": [
    {
     "name": "stdout",
     "output_type": "stream",
     "text": [
      "        Multiple Comparison of Means - Tukey HSD, FWER=0.05        \n",
      "===================================================================\n",
      "group1 group2   meandiff   p-adj      lower        upper     reject\n",
      "-------------------------------------------------------------------\n",
      "  high    low -834844.2111  0.001 -1027665.5147 -642022.9076   True\n",
      "  high    mid   45579.7918 0.8336  -151582.3879  242741.9715  False\n",
      "   low    mid  880424.0029  0.001   835220.4166  925627.5892   True\n",
      "-------------------------------------------------------------------\n"
     ]
    }
   ],
   "source": [
    "# multiple comparison of resale price for floor_level\n",
    "mcTreatment    = multi.MultiComparison(df2['RBX_price'], df2['floor_level'])\n",
    "results_Treatment  = mcTreatment.tukeyhsd()\n",
    "print(results_Treatment.summary())\n",
    "# a result of ’reject = True’ means that a significant difference has been observed"
   ]
  },
  {
   "cell_type": "markdown",
   "metadata": {},
   "source": [
    "> From the above we can see that the pricing between \n",
    "> low and mid are significantly different\n",
    "> high and low are significantly different"
   ]
  },
  {
   "cell_type": "code",
   "execution_count": 80,
   "metadata": {},
   "outputs": [
    {
     "data": {
      "image/png": "[encoded data removed]",
      "text/plain": [
       "<Figure size 720x432 with 1 Axes>"
      ]
     },
     "metadata": {},
     "output_type": "display_data"
    }
   ],
   "source": [
    "# plot boxplot to ascertain if there is overlap\n",
    "sns.set_context(\"paper\", font_scale=1.5, rc={\"font.size\":16,\"axes.titlesize\":16,\"axes.labelsize\":16}) \n",
    "plt.title('Boxplot comparing resale price by floor_level')\n",
    "sns.boxplot(x='floor_level', y='price_BX', data=df2)\n",
    "plt.xlabel('floor_level')\n",
    "plt.ylabel('resale_price')\n",
    "plt.xticks(rotation=45)\n",
    "plt.show()"
   ]
  },
  {
   "cell_type": "markdown",
   "metadata": {},
   "source": [
    "> From the above box plot, we can see that there are indeed differences between low and mid as well as high and low."
   ]
  },
  {
   "cell_type": "code",
   "execution_count": 81,
   "metadata": {},
   "outputs": [
    {
     "data": {
      "image/png": "[encoded data removed]",
      "text/plain": [
       "<Figure size 720x432 with 1 Axes>"
      ]
     },
     "metadata": {},
     "output_type": "display_data"
    }
   ],
   "source": [
    "# plot residual plot\n",
    "residuals = model.resid \n",
    "fig = sm.qqplot(residuals, line='s') \n",
    "plt.show()"
   ]
  },
  {
   "cell_type": "markdown",
   "metadata": {},
   "source": [
    "> As the residual is not normally distributed, we will conduct a non-parametric test as well for comparison."
   ]
  },
  {
   "cell_type": "markdown",
   "metadata": {},
   "source": [
    "### Comparison with a Non-Parametric Test"
   ]
  },
  {
   "cell_type": "markdown",
   "metadata": {},
   "source": [
    "\\begin{align}\n",
    "  & {{H}_{0}}:\\,\\,\\mu _{1}\\,=\\,\\,\\mu _{2}\\,=\\,\\,\\mu _{3} \\\\\n",
    " & {{H}_{1}}:\\,\\,\\mu _{1}\\,\\ne \\,\\,\\mu _{2}\\,\\ne \\,\\,\\mu _{3} \\\\ \n",
    "\\end{align}\n",
    "\n",
    "> H0 : they have the same distribution for the resale transaction in all groups <br>\n",
    "> H1 : they are different in some groups than in others"
   ]
  },
  {
   "cell_type": "code",
   "execution_count": 82,
   "metadata": {},
   "outputs": [
    {
     "name": "stdout",
     "output_type": "stream",
     "text": [
      "Statistics=1969.681, p=0.000\n",
      "They have different distributions (reject H0)\n"
     ]
    }
   ],
   "source": [
    "# use of Kruskal Wallis\n",
    "stat, p = kruskal(resale_price1, resale_price2, resale_price3)\n",
    "print('Statistics=%.3f, p=%.3f' % (stat, p))\n",
    "alpha = 0.05\n",
    "if p > alpha:\n",
    "    print('They have the distributions (fail to reject H0)')\n",
    "else:\n",
    "    print('They have different distributions (reject H0)')\n",
    "# at 0.05 level of significance, we reject the null hypothesis since p-value < 0.05 \n",
    "# conclude there is enough evidence that they have different distributions"
   ]
  },
  {
   "cell_type": "markdown",
   "metadata": {},
   "source": [
    "### Result"
   ]
  },
  {
   "cell_type": "markdown",
   "metadata": {},
   "source": [
    "> From both parametric and non-parametric tests, after the removal of outliers, we confirmed that they have different distributions in some groups than in others.<br>\n",
    "> There are differences in price of property vs floor level."
   ]
  },
  {
   "cell_type": "markdown",
   "metadata": {},
   "source": [
    "### Conclusion"
   ]
  },
  {
   "cell_type": "markdown",
   "metadata": {},
   "source": [
    "> Based on the tests conducted, we conclude that:<br>\n",
    "> the sample mean price of property is representative of the population mean price of property.<br>\n",
    "> there are differences in price of property vs floor level."
   ]
  }
 ],
 "metadata": {
  "kernelspec": {
   "display_name": "Python 3",
   "language": "python",
   "name": "python3"
  },
  "language_info": {
   "codemirror_mode": {
    "name": "ipython",
    "version": 3
   },
   "file_extension": ".py",
   "mimetype": "text/x-python",
   "name": "python",
   "nbconvert_exporter": "python",
   "pygments_lexer": "ipython3",
   "version": "3.8.3"
  }
 },
 "nbformat": 4,
 "nbformat_minor": 4
}
